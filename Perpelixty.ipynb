{
 "cells": [
  {
   "cell_type": "markdown",
   "id": "5297a5b5-ba51-4ac5-9a0d-80b67c4df175",
   "metadata": {},
   "source": [
    "### Using perplextiy Sonar model"
   ]
  },
  {
   "cell_type": "code",
   "execution_count": 65,
   "id": "3b8d2a45-7453-40d4-bbf4-cef6858ad47a",
   "metadata": {
    "tags": []
   },
   "outputs": [],
   "source": [
    "import yaml\n",
    "with open(\"config.yml\", \"r\") as file:\n",
    "    api_keys = yaml.safe_load(file)\n",
    "\n",
    "# print(api_keys)"
   ]
  },
  {
   "cell_type": "code",
   "execution_count": null,
   "id": "0f7d7572-f333-4be8-8a57-a83f5a9c8bda",
   "metadata": {},
   "outputs": [],
   "source": []
  },
  {
   "cell_type": "code",
   "execution_count": 34,
   "id": "94662ee2-b212-477f-8ff0-94c45ef01146",
   "metadata": {
    "tags": []
   },
   "outputs": [],
   "source": [
    "from openai import OpenAI\n",
    "\n",
    "perplexity_api_key = api_keys['perplexity_api_key']\n",
    "\n",
    "messages = [\n",
    "    {\n",
    "        \"role\": \"system\",\n",
    "        \"content\": (\n",
    "            '''You are a market research analyst specializing in corporate mergers and acquisitions.\n",
    "                Your task is to gather and summarize credible information from web searches. \n",
    "                You only consider trustworthy sources with clear credentials and safety certificates.\n",
    "            '''\n",
    "        ),\n",
    "    },\n",
    "    {   \n",
    "        \"role\": \"user\",\n",
    "        \"content\": (\n",
    "            '''Search for \"F W Webb merger acquisition\" and follow these steps:\n",
    "\n",
    "                1. Scan the first 50 search results.\n",
    "                2. Keep the results where F W Webb is mentioned and the source has a published date. Only keep information going back 10 years only.\n",
    "                2. Only keep the results which mentions merger or acquisitions involving F W Webb. \n",
    "                3. Remove duplicate articles based on order of appearance in search results.\n",
    "                4. Summarize each event in ≤2 lines, mentioning who merged/acquired whom and when, along with any key details.\n",
    "                5. Create a numbered list (max 5 items) sorted by date (latest to oldest), formatted as:\n",
    "                Company Acquired/Merged – MMM-YYYY : Short summary, Web Link to Source:\n",
    "                6. Focus only on verified and relevant sources.\n",
    "                7. Final response should only contains the numbered list with no additional text. If no eligible searches were found reponse only with the word No\n",
    "                '''\n",
    "        ),\n",
    "    },\n",
    "]\n"
   ]
  },
  {
   "cell_type": "code",
   "execution_count": 35,
   "id": "66de231d-8d62-4964-9b18-4092e36fd6ee",
   "metadata": {
    "tags": []
   },
   "outputs": [
    {
     "name": "stdout",
     "output_type": "stream",
     "text": [
      "ChatCompletion(id='8a2c841c-5757-43e7-9213-560c50020500', choices=[Choice(finish_reason='stop', index=0, logprobs=None, message=ChatCompletionMessage(content='1. **J.D. Johnson Co.** – Dec-2023 : F.W. Webb acquired J.D. Johnson Co., expanding its presence in Poughkeepsie, NY, with a new wholesale location offering extensive inventory and services. [5]\\n2. **Rising Sun Plumbing Supply and Steinberg Plumbing Supply** – Jun-2023 : F.W. Webb acquired these two Philadelphia-based distributors, enhancing its presence in the Greater Philadelphia market. [3]\\n3. **Danbury Plumbing and HVAC Supply Co.** – Mar-2023 : F.W. Webb acquired Danbury Plumbing, increasing its presence in Connecticut and expanding its services to more contractors. [1][2]\\n4. **Grant Supply Co.** – Jun-2015 : F.W. Webb acquired Grant Supply, adding locations in Pleasantville and North Brunswick, NJ, to its network. [4]', role='assistant', function_call=None, tool_calls=None), delta={'role': 'assistant', 'content': ''})], created=1738128543, model='sonar', object='chat.completion', service_tier=None, system_fingerprint=None, usage=CompletionUsage(completion_tokens=181, prompt_tokens=249, total_tokens=430), citations=['https://hvacinsider.com/f-w-webb-company-acquires-danbury-plumbing-and-hvac-supply-co/', 'https://www.mdm.com/news/tech-operations/operations/f-w-webb-acquires-danbury-plumbing-and-hvac-supply/', 'https://www.mdm.com/news/operations/mergers-acquisitions/f-w-webb-acquires-2-plumbing-distributors-in-philadelphia/', 'https://www.supplyht.com/articles/98609-fw-webb-acquires-grant-supply', 'https://www.businesswire.com/news/home/20231204042654/en/F.W.-Webb-Expands-to-Poughkeepsie-NY-Through-Its-Acquisition-of-J.D.-Johnson-Co.'])\n"
     ]
    }
   ],
   "source": [
    "client = OpenAI(api_key=perplexity_api_key, base_url=\"https://api.perplexity.ai\")\n",
    "\n",
    "# chat completion without streaming\n",
    "response = client.chat.completions.create(\n",
    "    model=\"sonar\",\n",
    "    messages=messages,\n",
    ")\n",
    "print(response)"
   ]
  },
  {
   "cell_type": "code",
   "execution_count": 38,
   "id": "9d3f7382-9277-4070-a500-673e93c73ad7",
   "metadata": {
    "tags": []
   },
   "outputs": [
    {
     "name": "stdout",
     "output_type": "stream",
     "text": [
      "ChatCompletion(id='fea776d2-e3e7-4629-a68a-060c0a36dfb9', choices=[Choice(finish_reason='stop', index=0, logprobs=None, message=ChatCompletionMessage(content='1. Danbury Plumbing and HVAC Supply Co. - Mar-2024: F.W. Webb acquired this Western Connecticut wholesale distributor, expanding its presence in the state. https://www.mdm.com/news/tech-operations/operations/f-w-webb-acquires-danbury-plumbing-and-hvac-supply/\\n\\n2. J.D. Johnson Co. - Dec-2023: F.W. Webb acquired J.D. Johnson Co. in Poughkeepsie, NY, opening a new wholesale location and expanding its presence in New York state. https://www.businesswire.com/news/home/20231204042654/en/F.W.-Webb-Expands-to-Poughkeepsie-NY-Through-Its-Acquisition-of-J.D.-Johnson-Co.\\n\\n3. Rising Sun Plumbing Supply and Steinberg Plumbing Supply - Jun-2023: F.W. Webb acquired these two Pennsylvania-based plumbing, heating, and industrial supply distributors, establishing its third and fourth wholesale locations in the state. https://www.mdm.com/news/operations/mergers-acquisitions/f-w-webb-acquires-2-plumbing-distributors-in-philadelphia/\\n\\n4. Grant Supply Co. - Jun-2015: F.W. Webb acquired Grant Supply Co., adding two customer sites in southern New Jersey to its network of locations. https://www.supplyht.com/articles/98609-fw-webb-acquires-grant-supply', role='assistant', function_call=None, tool_calls=None), delta={'role': 'assistant', 'content': ''})], created=1738128577, model='sonar-pro', object='chat.completion', service_tier=None, system_fingerprint=None, usage=CompletionUsage(completion_tokens=361, prompt_tokens=249, total_tokens=610, citation_tokens=4316, num_search_queries=1), citations=['https://hvacinsider.com/f-w-webb-company-acquires-danbury-plumbing-and-hvac-supply-co/', 'https://edisciplinas.usp.br/pluginfile.php/5547326/mod_resource/content/1/Willmer,%20Stone%20%20Johsnton_Environmental-physiology-of-animals.pdf', 'https://www.mdm.com/news/tech-operations/operations/f-w-webb-acquires-danbury-plumbing-and-hvac-supply/', 'https://saude.ufpr.br/medintegrada/wp-content/uploads/sites/40/2021/01/jama-the-rational-clinical-examination.pdf', 'https://www.mdm.com/news/operations/mergers-acquisitions/f-w-webb-acquires-2-plumbing-distributors-in-philadelphia/', 'https://www.micromeritics.com/downloads/eBook/Analytical-Methods-in-Fine-Particle-Technology.pdf', 'https://www.supplyht.com/articles/98609-fw-webb-acquires-grant-supply', 'https://cetesb.sp.gov.br/aguasinteriores/wp-content/uploads/sites/33/2017/04/Handbook-on-the-Toxicology-of-Metals.pdf', 'https://www.businesswire.com/news/home/20231204042654/en/F.W.-Webb-Expands-to-Poughkeepsie-NY-Through-Its-Acquisition-of-J.D.-Johnson-Co.', 'https://www.ufpb.br/lat/contents/documentos/artigos-das-noticias/livro-sho-2021.pdf'])\n"
     ]
    }
   ],
   "source": [
    "# chat completion without streaming\n",
    "response_pro = client.chat.completions.create(\n",
    "    model=\"sonar-pro\",\n",
    "    messages=messages,\n",
    ")\n",
    "print(response_pro)"
   ]
  },
  {
   "cell_type": "markdown",
   "id": "f06ea61a-d5b5-454c-921c-921011c9cc31",
   "metadata": {},
   "source": [
    "### Output from Sonar Search and the citations"
   ]
  },
  {
   "cell_type": "code",
   "execution_count": 39,
   "id": "28a8e2d5-3e6b-4c83-8404-3a20835d49bc",
   "metadata": {
    "tags": []
   },
   "outputs": [
    {
     "name": "stdout",
     "output_type": "stream",
     "text": [
      "1. **J.D. Johnson Co.** – Dec-2023 : F.W. Webb acquired J.D. Johnson Co., expanding its presence in Poughkeepsie, NY, with a new wholesale location offering extensive inventory and services. [5]\n",
      "2. **Rising Sun Plumbing Supply and Steinberg Plumbing Supply** – Jun-2023 : F.W. Webb acquired these two Philadelphia-based distributors, enhancing its presence in the Greater Philadelphia market. [3]\n",
      "3. **Danbury Plumbing and HVAC Supply Co.** – Mar-2023 : F.W. Webb acquired Danbury Plumbing, increasing its presence in Connecticut and expanding its services to more contractors. [1][2]\n",
      "4. **Grant Supply Co.** – Jun-2015 : F.W. Webb acquired Grant Supply, adding locations in Pleasantville and North Brunswick, NJ, to its network. [4]\n"
     ]
    }
   ],
   "source": [
    "response_dict = response.to_dict()\n",
    "print(response_dict['choices'][0]['message']['content'])"
   ]
  },
  {
   "cell_type": "code",
   "execution_count": 40,
   "id": "4f739a25-eac2-4977-a2a3-7e7e23f97dec",
   "metadata": {
    "tags": []
   },
   "outputs": [
    {
     "name": "stdout",
     "output_type": "stream",
     "text": [
      "1: https://hvacinsider.com/f-w-webb-company-acquires-danbury-plumbing-and-hvac-supply-co/\n",
      "2: https://www.mdm.com/news/tech-operations/operations/f-w-webb-acquires-danbury-plumbing-and-hvac-supply/\n",
      "3: https://www.mdm.com/news/operations/mergers-acquisitions/f-w-webb-acquires-2-plumbing-distributors-in-philadelphia/\n",
      "4: https://www.supplyht.com/articles/98609-fw-webb-acquires-grant-supply\n",
      "5: https://www.businesswire.com/news/home/20231204042654/en/F.W.-Webb-Expands-to-Poughkeepsie-NY-Through-Its-Acquisition-of-J.D.-Johnson-Co.\n"
     ]
    }
   ],
   "source": [
    "for i,x in enumerate(response_dict['citations']):\n",
    "    print(f\"{i+1}: {x}\")\n",
    "# print(response_dict['citations'])"
   ]
  },
  {
   "cell_type": "markdown",
   "id": "cb150b6c-e025-48f5-9a69-cd15afb053ea",
   "metadata": {},
   "source": [
    "### Output from Sonar Pro "
   ]
  },
  {
   "cell_type": "code",
   "execution_count": 41,
   "id": "e31c48c4-3bbc-4b78-8436-516768f7336c",
   "metadata": {
    "tags": []
   },
   "outputs": [
    {
     "name": "stdout",
     "output_type": "stream",
     "text": [
      "1. Danbury Plumbing and HVAC Supply Co. - Mar-2024: F.W. Webb acquired this Western Connecticut wholesale distributor, expanding its presence in the state. https://www.mdm.com/news/tech-operations/operations/f-w-webb-acquires-danbury-plumbing-and-hvac-supply/\n",
      "\n",
      "2. J.D. Johnson Co. - Dec-2023: F.W. Webb acquired J.D. Johnson Co. in Poughkeepsie, NY, opening a new wholesale location and expanding its presence in New York state. https://www.businesswire.com/news/home/20231204042654/en/F.W.-Webb-Expands-to-Poughkeepsie-NY-Through-Its-Acquisition-of-J.D.-Johnson-Co.\n",
      "\n",
      "3. Rising Sun Plumbing Supply and Steinberg Plumbing Supply - Jun-2023: F.W. Webb acquired these two Pennsylvania-based plumbing, heating, and industrial supply distributors, establishing its third and fourth wholesale locations in the state. https://www.mdm.com/news/operations/mergers-acquisitions/f-w-webb-acquires-2-plumbing-distributors-in-philadelphia/\n",
      "\n",
      "4. Grant Supply Co. - Jun-2015: F.W. Webb acquired Grant Supply Co., adding two customer sites in southern New Jersey to its network of locations. https://www.supplyht.com/articles/98609-fw-webb-acquires-grant-supply\n"
     ]
    }
   ],
   "source": [
    "response_pro_dict = response_pro.to_dict()\n",
    "print(response_pro_dict['choices'][0]['message']['content'])"
   ]
  },
  {
   "cell_type": "code",
   "execution_count": 42,
   "id": "cafa654a-6a30-4e9f-afcc-3f66d3da6152",
   "metadata": {
    "tags": []
   },
   "outputs": [
    {
     "name": "stdout",
     "output_type": "stream",
     "text": [
      "1: https://hvacinsider.com/f-w-webb-company-acquires-danbury-plumbing-and-hvac-supply-co/\n",
      "2: https://edisciplinas.usp.br/pluginfile.php/5547326/mod_resource/content/1/Willmer,%20Stone%20%20Johsnton_Environmental-physiology-of-animals.pdf\n",
      "3: https://www.mdm.com/news/tech-operations/operations/f-w-webb-acquires-danbury-plumbing-and-hvac-supply/\n",
      "4: https://saude.ufpr.br/medintegrada/wp-content/uploads/sites/40/2021/01/jama-the-rational-clinical-examination.pdf\n",
      "5: https://www.mdm.com/news/operations/mergers-acquisitions/f-w-webb-acquires-2-plumbing-distributors-in-philadelphia/\n",
      "6: https://www.micromeritics.com/downloads/eBook/Analytical-Methods-in-Fine-Particle-Technology.pdf\n",
      "7: https://www.supplyht.com/articles/98609-fw-webb-acquires-grant-supply\n",
      "8: https://cetesb.sp.gov.br/aguasinteriores/wp-content/uploads/sites/33/2017/04/Handbook-on-the-Toxicology-of-Metals.pdf\n",
      "9: https://www.businesswire.com/news/home/20231204042654/en/F.W.-Webb-Expands-to-Poughkeepsie-NY-Through-Its-Acquisition-of-J.D.-Johnson-Co.\n",
      "10: https://www.ufpb.br/lat/contents/documentos/artigos-das-noticias/livro-sho-2021.pdf\n"
     ]
    }
   ],
   "source": [
    "for i,x in enumerate(response_pro_dict['citations']):\n",
    "    print(f\"{i+1}: {x}\")\n",
    "# print(response_dict['citations'])"
   ]
  },
  {
   "cell_type": "markdown",
   "id": "e3928e37-9afa-4a58-b345-0b8e41b0da34",
   "metadata": {},
   "source": [
    "### With Gemini"
   ]
  },
  {
   "cell_type": "code",
   "execution_count": 47,
   "id": "ee21c77a-871e-46fa-904b-ffb05a39948d",
   "metadata": {
    "tags": []
   },
   "outputs": [],
   "source": [
    "import google.generativeai as genai\n",
    "gemini_api_key = api_keys['gemini_api_key']\n",
    "genai.configure(api_key=gemini_api_key)"
   ]
  },
  {
   "cell_type": "code",
   "execution_count": 59,
   "id": "ef0d74b1-9112-451d-86ac-152ff03c2a4c",
   "metadata": {
    "tags": []
   },
   "outputs": [
    {
     "name": "stdout",
     "output_type": "stream",
     "text": [
      "1. F.W. Webb Company acquires J.D. Johnson Co. – Dec-2023 : F.W. Webb acquired J.D. Johnson Co., opening a new wholesale location in Poughkeepsie, NY.  This acquisition expands F.W. Webb's presence in the Northeast.\n",
      "\n",
      "\n",
      "2. F.W. Webb acquires Rising Sun Plumbing Supply and Steinberg Plumbing Supply – Jun-2023 : F.W. Webb acquired two Pennsylvania-based plumbing distributors, Rising Sun and Steinberg, expanding its market reach in the Philadelphia area.  Both companies will operate under the F.W. Webb name.\n",
      "\n",
      "\n",
      "3. F.W. Webb acquires Danbury Plumbing and HVAC Supply Co. – Mar-2021 : F.W. Webb acquired Danbury Plumbing and HVAC Supply Co. in Western Connecticut. The acquired location became an F.W. Webb location, and Creative Bath opened as a Frank Webb Home retail showroom.\n",
      "\n",
      "\n",
      "\n"
     ]
    }
   ],
   "source": [
    "model_15flash = genai.GenerativeModel(\n",
    "    \"models/gemini-1.5-flash\", system_instruction=messages[0]['content'], tools='google_search_retrieval'\n",
    ")\n",
    "response_15flash = model_15flash.generate_content(messages[1]['content'])\n",
    "print(response_15flash.text)"
   ]
  },
  {
   "cell_type": "code",
   "execution_count": 61,
   "id": "27ae25c6-8ede-4e80-9cb5-2c31c2f1a0e9",
   "metadata": {
    "tags": []
   },
   "outputs": [
    {
     "name": "stdout",
     "output_type": "stream",
     "text": [
      "1. J.D. Johnson Co. – Dec-2023: F.W. Webb acquired J.D. Johnson Co. and opened a new wholesale location in Poughkeepsie, NY.\n",
      "2. Rising Sun Plumbing Supply & Steinberg Plumbing Supply – Jun-2023: F.W. Webb acquired these two Pennsylvania-based plumbing distributors.\n",
      "3. Danbury Plumbing and HVAC Supply Co. – Mar-2021: F.W. Webb acquired this Western Connecticut wholesale distributor.\n",
      "\n",
      "\n",
      "\n"
     ]
    }
   ],
   "source": [
    "model_15pro = genai.GenerativeModel(\n",
    "    \"models/gemini-1.5-pro\", system_instruction=messages[0]['content'], tools='google_search_retrieval'\n",
    ")\n",
    "response_15pro = model_15pro.generate_content(messages[1]['content'])\n",
    "print(response_15pro.text)"
   ]
  },
  {
   "cell_type": "code",
   "execution_count": 68,
   "id": "3e9630f1-a607-4448-8bbd-3736e4439f2d",
   "metadata": {
    "tags": []
   },
   "outputs": [],
   "source": [
    "# !pip install -U -q google-genai"
   ]
  },
  {
   "cell_type": "code",
   "execution_count": 79,
   "id": "8227286e-3f1e-4e7f-b726-c4850f666036",
   "metadata": {
    "tags": []
   },
   "outputs": [],
   "source": [
    "from google import genai\n",
    "from google.genai.types import GenerateContentConfig, Tool\n",
    "\n",
    "client = genai.Client(api_key=gemini_api_key)\n",
    "\n",
    "config_20flash = GenerateContentConfig(system_instruction=messages[0]['content'], tools=[Tool(google_search={})], temperature=0)\n",
    "\n",
    "response_20flash = client.models.generate_content(model=\"gemini-2.0-flash-exp\", config=config_20flash, contents=messages[1]['content'])\n"
   ]
  },
  {
   "cell_type": "code",
   "execution_count": 80,
   "id": "9c141377-c1fb-4ffd-b6c1-e0fd30399727",
   "metadata": {
    "tags": []
   },
   "outputs": [
    {
     "name": "stdout",
     "output_type": "stream",
     "text": [
      "1.  J.D. Johnson Co. – Dec-2023: F.W. Webb acquired J.D. Johnson Co., expanding its wholesale presence in Poughkeepsie, New York. Web Link to Source: [https://supplyht.com/articles/f-w-webb-acquires-j-d-johnson-co/](https://supplyht.com/articles/f-w-webb-acquires-j-d-johnson-co/)\n",
      "2.  Rising Sun Plumbing Supply and Steinberg Plumbing Supply – Jun-2023: F.W. Webb acquired both Rising Sun Plumbing Supply and Steinberg Plumbing Supply, expanding its reach in the Philadelphia metro area. Web Link to Source: [https://www.inddist.com/mergers-acquisitions/news/21252288/fw-webb-acquires-pennsylvania-plumbing-suppliers](https://www.inddist.com/mergers-acquisitions/news/21252288/fw-webb-acquires-pennsylvania-plumbing-suppliers)\n",
      "3.  VJ Stanley and Stritt & Priebe – Jan-2022: F.W. Webb acquired both VJ Stanley and Stritt & Priebe, further expanding its operations. Web Link to Source: [https://tracxn.com/d/acquisitions/f-w-webb__1000000000000000000000000000000000000000000000000000000000000000](https://tracxn.com/d/acquisitions/f-w-webb__1000000000000000000000000000000000000000000000000000000000000000)\n",
      "4.  Danbury Plumbing and HVAC Supply Co. – Mar-2021: F.W. Webb acquired Danbury Plumbing and HVAC Supply Co., with the location becoming an F.W. Webb branch and a Frank Webb Home retail showroom. Web Link to Source: [https://www.mdm.com/news/mergers-acquisitions/f-w-webb-acquires-danbury-plumbing-and-hvac-supply/](https://www.mdm.com/news/mergers-acquisitions/f-w-webb-acquires-danbury-plumbing-and-hvac-supply/)\n",
      "5.  The Collins Companies – Jan-2020: F.W. Webb acquired The Collins Companies, though specific details of the transaction were not disclosed. Web Link to Source: [https://tracxn.com/d/acquisitions/f-w-webb__1000000000000000000000000000000000000000000000000000000000000000](https://tracxn.com/d/acquisitions/f-w-webb__1000000000000000000000000000000000000000000000000000000000000000)\n",
      "\n"
     ]
    }
   ],
   "source": [
    "print(response_20flash.text)"
   ]
  },
  {
   "cell_type": "code",
   "execution_count": null,
   "id": "596023e3-a92c-452e-8584-072e7ea043ce",
   "metadata": {},
   "outputs": [],
   "source": [
    "# Few Links doesnt seems appropriate and working. Restructuring the prompt."
   ]
  },
  {
   "cell_type": "code",
   "execution_count": 97,
   "id": "6640263a-cc61-43e9-81de-13e7f269636b",
   "metadata": {
    "tags": []
   },
   "outputs": [],
   "source": [
    "messages = [\n",
    "    {\n",
    "        \"role\": \"system\",\n",
    "        \"content\": (\n",
    "            '''You are a market research analyst specializing in corporate mergers and acquisitions.\n",
    "                Your task is to gather and summarize credible information from web searches. \n",
    "                You only consider trustworthy sources with clear credentials and safety certificates.\n",
    "            '''\n",
    "        ),\n",
    "    },\n",
    "    {   \n",
    "        \"role\": \"user\",\n",
    "        \"content\": (\n",
    "            '''Search for \"F W Webb merger acquisition\" and follow these steps:\n",
    "\n",
    "                1. Scan the first 50 search results.\n",
    "                2. Only keep publicly accessible resources.Avoid paid or proprietary databases where full data or direct access to the link is restricted.\n",
    "                3. Prioritize results where more details about the event are known like the nature of acquisition, date, benefits etc.\n",
    "                4. Keep the results where F W Webb is mentioned and the source has a published date. Only keep information going back 10 years only.\n",
    "                5. Only keep the results which mentions merger or acquisitions involving F W Webb. \n",
    "                6. Remove duplicate articles based on order of appearance in search results.\n",
    "                7. Create a numbered list (max 5 items) sorted by date (latest to oldest), formatted as:\n",
    "                Company Acquired/Merged – MMM-YYYY\n",
    "                A ≤2 lines summary , mentioning who merged/acquired whom and when, along with any key details.\n",
    "                Web address to this item from search results\n",
    "                8. Focus only on verified and relevant sources.\n",
    "                9. Final response should only contains the numbered list with no additional text. If no eligible searches were found reponse only with the word No\n",
    "                '''\n",
    "        ),\n",
    "    },\n",
    "]\n"
   ]
  },
  {
   "cell_type": "code",
   "execution_count": 98,
   "id": "bd3efa54-3686-4bf8-b564-f534b062cbeb",
   "metadata": {
    "tags": []
   },
   "outputs": [],
   "source": [
    "from google import genai\n",
    "from google.genai.types import GenerateContentConfig, Tool\n",
    "\n",
    "client = genai.Client(api_key=gemini_api_key)\n",
    "\n",
    "config_20flash = GenerateContentConfig(system_instruction=messages[0]['content'], tools=[Tool(google_search={})], temperature=0)\n",
    "\n",
    "response_20flash = client.models.generate_content(model=\"gemini-2.0-flash-exp\", config=config_20flash, contents=messages[1]['content'])\n"
   ]
  },
  {
   "cell_type": "code",
   "execution_count": 99,
   "id": "55bda1c0-5508-4acc-819d-8f6dd94ae8c2",
   "metadata": {
    "tags": []
   },
   "outputs": [
    {
     "name": "stdout",
     "output_type": "stream",
     "text": [
      "1.  J.D. Johnson Co. – DEC-2023\n",
      "    F.W. Webb acquired J.D. Johnson Co., a business that has served the community for more than 150 years. This acquisition led to the opening of a new F.W. Webb wholesale location in Poughkeepsie, New York.\n",
      "    https://www.supplyht.com/articles/103017-fw-webb-acquires-jd-johnson-co\n",
      "\n",
      "2.  Rising Sun Plumbing Supply and Steinberg Plumbing Supply – JUN-2023\n",
      "    F.W. Webb acquired Rising Sun Plumbing Supply in Philadelphia and Steinberg Plumbing Supply in Elkins Park, both of which have been serving the Philadelphia metro area for decades. These acquisitions expanded F.W. Webb's operations in Pennsylvania.\n",
      "    https://www.inddist.com/mergers-acquisitions/news/22528288/fw-webb-acquires-pennsylvania-plumbing-suppliers\n",
      "\n",
      "3.  VJ Stanley and Stritt & Priebe – JAN-2022\n",
      "    F.W. Webb acquired VJ Stanley and Stritt & Priebe. The specific details of these acquisitions were not disclosed.\n",
      "    https://tracxn.com/d/acquisitions/f-w-webb\n",
      "\n",
      "4.  Danbury Plumbing & Supply – MAR-2021\n",
      "    F.W. Webb acquired Danbury Plumbing & Supply. The specific details of this acquisition were not disclosed.\n",
      "    https://tracxn.com/d/acquisitions/f-w-webb\n",
      "\n",
      "5.  The Collins Companies – JAN-2020\n",
      "    F.W. Webb acquired The Collins Companies. The specific details of this acquisition were not disclosed.\n",
      "    https://tracxn.com/d/acquisitions/f-w-webb\n",
      "\n"
     ]
    }
   ],
   "source": [
    "print(response_20flash.text)"
   ]
  },
  {
   "cell_type": "markdown",
   "id": "6af5709c-b68e-4c39-a9ed-dc49b967c3ba",
   "metadata": {},
   "source": [
    "### Another way of prompting"
   ]
  },
  {
   "cell_type": "code",
   "execution_count": 100,
   "id": "81a69eb8-a278-48b6-998a-7bf9c7f7fb01",
   "metadata": {
    "tags": []
   },
   "outputs": [],
   "source": [
    "messages = [\n",
    "    {\n",
    "        \"role\": \"system\",\n",
    "        \"content\": (\n",
    "            '''You are a market research analyst specializing in corporate mergers and acquisitions.\n",
    "                Your task is to gather and summarize credible information from web searches. \n",
    "                You only consider trustworthy sources with clear credentials and safety certificates.\n",
    "            '''\n",
    "        ),\n",
    "    },\n",
    "    {   \n",
    "        \"role\": \"user\",\n",
    "        \"content\": (\n",
    "            '''Search for \"F W Webb merger acquisition\" and follow these steps:\n",
    "\n",
    "                1. Scan the first 50 search results.\n",
    "                2. Only keep publicly accessible resources.Avoid paid or proprietary databases where full data or direct access to the link is restricted.\n",
    "                3. Keep the results where F W Webb is mentioned and the source has a published date. Only keep information going back 10 years only.\n",
    "                4. Only keep the results which mentions merger or acquisitions involving F W Webb.\n",
    "                5. Remove duplicate articles based on order of appearance in search results. Only leveraged this filtered list of items further.\n",
    "                6. Create a numbered list (max 5 items) sorted by date (latest to oldest), formatted as:\n",
    "                Company Acquired/Merged – MMM-YYYY\n",
    "                A ≤2 lines summary , mentioning who merged/acquired whom and when, along with any key details.\n",
    "                Web address to this item from search results\n",
    "                7. Focus only on verified and relevant sources.\n",
    "                8. Final response should only contains the numbered list with no additional text. If no eligible searches were found reponse only with the word No\n",
    "                '''\n",
    "        ),\n",
    "    },\n",
    "]\n"
   ]
  },
  {
   "cell_type": "code",
   "execution_count": 101,
   "id": "9efd24b8-789c-468f-b63b-87983f3b0f2a",
   "metadata": {
    "tags": []
   },
   "outputs": [],
   "source": [
    "from google import genai\n",
    "from google.genai.types import GenerateContentConfig, Tool\n",
    "\n",
    "client = genai.Client(api_key=gemini_api_key)\n",
    "\n",
    "config_20flash = GenerateContentConfig(system_instruction=messages[0]['content'], tools=[Tool(google_search={})], temperature=0)\n",
    "\n",
    "response_20flash = client.models.generate_content(model=\"gemini-2.0-flash-exp\", config=config_20flash, contents=messages[1]['content'])\n"
   ]
  },
  {
   "cell_type": "code",
   "execution_count": 102,
   "id": "8e41a8a8-84ff-44ac-8f8f-e90626585547",
   "metadata": {
    "tags": []
   },
   "outputs": [
    {
     "name": "stdout",
     "output_type": "stream",
     "text": [
      "1.  J.D. Johnson Co. – Dec-2023\n",
      "    F.W. Webb acquired J.D. Johnson Co., a Poughkeepsie, NY based company that has served the community for over 150 years. This acquisition allowed F.W. Webb to open a new wholesale location in Poughkeepsie.\n",
      "    https://vertexaisearch.cloud.google.com/grounding-api-redirect/AUBnsYsCk5X9BC2xL4ACUV8NdYflovw5jbUr8AkDaNfsDcXksqROAipsFyX8MHz6aU_FGVXiaa2_Xspd6whVHU70shGm046ngmIYYKhHXr1iYKgb-T8URgJaNFtHUN3a0BEvSgzEvQ8aHoH3-Sy-9VRjxYvKzHUF32EC-Q-CezRSjtGCDAGB\n",
      "\n",
      "2.  Rising Sun Plumbing Supply and Steinberg Plumbing Supply – Jun-2023\n",
      "    F.W. Webb acquired two Pennsylvania-based plumbing distributors, Rising Sun Plumbing Supply and Steinberg Plumbing Supply, expanding its presence in the Greater Philadelphia area. Both companies will operate under the F.W. Webb umbrella.\n",
      "    https://vertexaisearch.cloud.google.com/grounding-api-redirect/AUBnsYsACqdedgbU_GTv222IBodYBjWADVvI0vro3-oVTvYLcvPpUC1ymSCnlbverJcaf-Sav3If1nr4nqacariUn6g6pPU4Z2lthzMka_JGtrNNPbTudzeEmIv2st9Zi6PJH35gTxpEMlfrQXyxHylX1UfIl3QJl1smIuwxHVtqXquTiuk1sMFuBn_2k03ys-PZbv5atTAPh54Dgg-RFC81zfqitmDjGAehQIZC2rOrZJQ=\n",
      "\n",
      "3.  Danbury Plumbing and HVAC Supply Co. – Mar-2021\n",
      "    F.W. Webb acquired Danbury Plumbing and HVAC Supply Co., a Western Connecticut wholesale distributor. This acquisition increased F.W. Webb's presence in Connecticut, allowing them to support more contractors across the state.\n",
      "    https://vertexaisearch.cloud.google.com/grounding-api-redirect/AUBnsYvqjsPKzdwQ3Xra41U4x-cly1LdsO13Ja0_vJ4DtjQPONAg9hMOtKka2ZTjvs7XAMBa0yRvxcPlnYNKNSK_NHfRD9BQz7SBwamGhhI1WtMxbQntSY-Q04XmWNnE07WNIGwYmDmPhIwu7h1CuIP1tRSQssimgfxjhLdXs8Y_TYZi-Id4EeowR_MLs0h9cS_sJd84TFl81WAZSY36YRKv_03tmvWnbu2eU-0qlUk3oP3Pj94seAM7\n",
      "\n",
      "4.  The Collins Companies – Jan-2020\n",
      "    F.W. Webb acquired The Collins Companies, though specific details of the acquisition are not provided in the search results.\n",
      "    https://vertexaisearch.cloud.google.com/grounding-api-redirect/AUBnsYuNhmr9hqpVyITeI-Ew1Z2UnuA5n0wdoXspSvohWBR6xYDJfF43okgc5XFOzTkFJ4B9J6TfGIKSpGclgUvgZPeFnv7v7IP1w3cXAdV0zmO0-zFaJ1wnYIPt4fiIrsZrLUVnFz0XGaj5J9T8OiJp7rWLUCzC5i-nt_MWZZ7ahNYBm3DCRDLqFAIvQtk6qTy3V_e3rXHQg3KcuogVjx4uc3KWHnbb\n",
      "\n",
      "5.  Long Island Plumbing – May-2019\n",
      "    F.W. Webb acquired Long Island Plumbing, though specific details of the acquisition are not provided in the search results.\n",
      "    https://vertexaisearch.cloud.google.com/grounding-api-redirect/AUBnsYuNhmr9hqpVyITeI-Ew1Z2UnuA5n0wdoXspSvohWBR6xYDJfF43okgc5XFOzTkFJ4B9J6TfGIKSpGclgUvgZPeFnv7v7IP1w3cXAdV0zmO0-zFaJ1wnYIPt4fiIrsZrLUVnFz0XGaj5J9T8OiJp7rWLUCzC5i-nt_MWZZ7ahNYBm3DCRDLqFAIvQtk6qTy3V_e3rXHQg3KcuogVjx4uc3KWHnbb\n",
      "\n"
     ]
    }
   ],
   "source": [
    "print(response_20flash.text)"
   ]
  },
  {
   "cell_type": "code",
   "execution_count": 103,
   "id": "0da953b1-8a9c-4fb1-b942-e4e44221528d",
   "metadata": {
    "tags": []
   },
   "outputs": [],
   "source": [
    "messages = [\n",
    "    {\n",
    "        \"role\": \"system\",\n",
    "        \"content\": (\n",
    "            '''You are a market research analyst specializing in corporate mergers and acquisitions.\n",
    "                Your task is to gather and summarize credible information from web searches. \n",
    "                You only consider trustworthy sources with clear credentials and safety certificates.\n",
    "            '''\n",
    "        ),\n",
    "    },\n",
    "    {   \n",
    "        \"role\": \"user\",\n",
    "        \"content\": (\n",
    "            '''Search for \"F W Webb merger acquisition\" and follow these steps:\n",
    "\n",
    "                1. Scan the first 50 search results.\n",
    "                2. Only keep publicly accessible resources.Avoid paid or proprietary databases where full data or direct access to the link is restricted.\n",
    "                3. Keep the results where F W Webb is mentioned and the source has a published date. Only keep information going back 10 years only.\n",
    "                4. Only keep the results which mentions merger or acquisitions involving F W Webb.\n",
    "                5. Remove duplicate articles based on order of appearance in search results. Only leveraged this filtered list of items further.\n",
    "                6. Create a numbered list (max 5 items) sorted by date (latest to oldest), formatted as:\n",
    "                Company Acquired/Merged – MMM-YYYY\n",
    "                A ≤2 lines summary , mentioning who merged/acquired whom and when, along with any key details.\n",
    "                Public Web address to this item\n",
    "                7. Focus only on verified and relevant sources.\n",
    "                8. Final response should only contains the numbered list with no additional text. If no eligible searches were found reponse only with the word No\n",
    "                '''\n",
    "        ),\n",
    "    },\n",
    "]\n"
   ]
  },
  {
   "cell_type": "code",
   "execution_count": 104,
   "id": "66de201a-b869-4845-bb4f-8fb19440a533",
   "metadata": {
    "tags": []
   },
   "outputs": [],
   "source": [
    "from google import genai\n",
    "from google.genai.types import GenerateContentConfig, Tool\n",
    "\n",
    "client = genai.Client(api_key=gemini_api_key)\n",
    "\n",
    "config_20flash = GenerateContentConfig(system_instruction=messages[0]['content'], tools=[Tool(google_search={})], temperature=0)\n",
    "\n",
    "response_20flash = client.models.generate_content(model=\"gemini-2.0-flash-exp\", config=config_20flash, contents=messages[1]['content'])\n"
   ]
  },
  {
   "cell_type": "code",
   "execution_count": 105,
   "id": "e8437b1a-4fae-49ea-b0af-6b2d228c4a7b",
   "metadata": {
    "tags": []
   },
   "outputs": [
    {
     "name": "stdout",
     "output_type": "stream",
     "text": [
      "1.  J.D. Johnson Co. – Dec-2023\n",
      "    F.W. Webb acquired J.D. Johnson Co., a plumbing, heating, and industrial supply distributor with a history of over 150 years. This acquisition allowed F.W. Webb to expand its presence in Poughkeepsie, NY.\n",
      "    [https://supplyht.com](https://vertexaisearch.cloud.google.com/grounding-api-redirect/AUBnsYu_aU1xi5yG3VjNNYf1LH49ncggPqJdPIDUAX5sBzPqVQmYhBhAYlt-YpryQqE2AfODB-1yUyOIVebD7mnRpeJ2Bie10MbZjVVxYAHRAfLNHL0WFGvvCzPxJJcPeCmI274L51Q6_v1YP2G3ItWDsfzuX06iKQwYlQPLjqgTuBhDovM=)\n",
      "2.  Rising Sun Plumbing Supply and Steinberg Plumbing Supply – Jun-2023\n",
      "    F.W. Webb acquired two Pennsylvania-based plumbing distributors, Rising Sun Plumbing Supply and Steinberg Plumbing Supply, expanding its reach in the Greater Philadelphia area. Both companies now operate under the F.W. Webb umbrella.\n",
      "    [https://mdm.com](https://vertexaisearch.cloud.google.com/grounding-api-redirect/AUBnsYvWB2A7Y2J5gAqr-EoynWD7VOi5j2bkjJSMOt7mw1hJ3J1frq3-31QRAke3fKPGECr0yZukMJNCKgG4z3Ocrupd1fbpbF0xeCvY-Qeom4gQEdnOUSJVUFXe0GOIkjCRoqIlRIgKaQH5d4AOxvB0E_GodHxwHsQhSLbX6DNJ5Je7-dIbzUH0o1S2nN3G_W3XeGS_-UPZ8KAE5RoNHHPk3TZgixWijk1X2QNua4ZWaw==)\n",
      "3.  Danbury Plumbing and HVAC Supply – Mar-2021\n",
      "    F.W. Webb acquired Danbury Plumbing and HVAC Supply, a Western Connecticut wholesale distributor. This acquisition increased F.W. Webb's presence in Connecticut.\n",
      "    [https://inddist.com](https://vertexaisearch.cloud.google.com/grounding-api-redirect/AUBnsYv3w41Sm_Yqm78US96Juc4MthG_AfZ4S-lpZL0q-6-32qSrhBqjqttAPjSHu8wpgBQncwaLXWd0JArDVJv4twM73eD0GPYUXWqmfncqAAP7UI3QQBDHV8SKmPNoBdRTnjFWhVRFNAeclYqVDcTSAbXf-IjCIcehudcF_NLxnyRSlbkdLHTShvpic9fW0vDF_GUiC3l0ChMbu6n-U_PPNtUWB5LfpKoPv1qMrtL6Me4616XuYnE=)\n",
      "4.  The Collins Companies – Jan-2020\n",
      "    F.W. Webb acquired The Collins Companies, though specific details of the acquisition are not provided in the search results.\n",
      "    [https://tracxn.com](https://vertexaisearch.cloud.google.com/grounding-api-redirect/AUBnsYtr8x60liovaD_w8WZ3UGkeHOYNKJ_ASbwacGaiJlLeSR3dW-X6OFjif9edSOhoHxuIbhhW2ZBeF5j29QpmrnQ18bjAifBzX9mtFuv3Sp66lAA5kCihz4bERu-_jFc3LAis14m-PC0ok7uUbcSIhffFDKTvMY1CRXN2r5xZeLRCsqzxw9O0XhjbgTIPeXL0UNj8vUgsy7eeJLIuHsCSPMDQFaQ=)\n",
      "5.  Palace Plumbing & Heating Supply – Oct-2018\n",
      "    F.W. Webb acquired Palace Plumbing & Heating Supply, a wholesale distributor with locations in Manhattan and the Bronx, establishing F.W. Webb's presence in New York City.\n",
      "    [https://inddist.com](https://vertexaisearch.cloud.google.com/grounding-api-redirect/AUBnsYtAnk_8zjS31w4dqcK_n7XLyjGZ_rx1FgWPww78ezHj1Ght4W7rEB_ezRPul2YHGRzMCrltws4HvCAMgy8VejkzzhfYk63a_hsAH8Cf7YZbaR-mDLdSj0j998FFVd_vNcvANAXIse_3rCHNEkO2cOjRSwp3JWTEzCHR9JPiLtLHrHGaNfP7A0-Kpeyp3OKSUXNBL_u4XTlUPTrSo0ZEw1q72kPdvR1BGc7J2SELUFQ=)\n",
      "\n"
     ]
    }
   ],
   "source": [
    "print(response_20flash.text)"
   ]
  },
  {
   "cell_type": "code",
   "execution_count": 106,
   "id": "4a9e1b42-8637-40a5-8755-d62994274276",
   "metadata": {
    "tags": []
   },
   "outputs": [],
   "source": [
    "messages = [\n",
    "    {\n",
    "        \"role\": \"system\",\n",
    "        \"content\": (\n",
    "            '''You are a market research analyst specializing in corporate mergers and acquisitions.\n",
    "                Your task is to gather and summarize credible information from web searches. \n",
    "                You only consider trustworthy sources with clear credentials and safety certificates.\n",
    "            '''\n",
    "        ),\n",
    "    },\n",
    "    {   \n",
    "        \"role\": \"user\",\n",
    "        \"content\": (\n",
    "            '''Search for \"F W Webb merger acquisition\" and follow these steps:\n",
    "\n",
    "                1. Scan the first 50 search results.\n",
    "                2. Only keep publicly accessible resources.Avoid paid or proprietary databases where full data or direct access to the link is restricted.\n",
    "                3. Keep the results where F W Webb is mentioned and the source has a published date. Only keep information going back 10 years only.\n",
    "                4. Only keep the results which mentions merger or acquisitions involving F W Webb.\n",
    "                5. Remove duplicate articles based on order of appearance in search results. Only leveraged this filtered list of items further.\n",
    "                6. Create a numbered list (max 5 items) sorted by date (latest to oldest), formatted as:\n",
    "                Company Acquired/Merged – MMM-YYYY\n",
    "                A ≤2 lines summary , mentioning who merged/acquired whom and when, along with any key details.\n",
    "                Link to this item from the original source\n",
    "                7. Focus only on verified and relevant sources.\n",
    "                8. Final response should only contains the numbered list with no additional text. If no eligible searches were found reponse only with the word No\n",
    "                '''\n",
    "        ),\n",
    "    },\n",
    "]\n"
   ]
  },
  {
   "cell_type": "code",
   "execution_count": 107,
   "id": "b5468c74-b76b-4066-b3ec-e0a35cf0cc02",
   "metadata": {
    "tags": []
   },
   "outputs": [],
   "source": [
    "from google import genai\n",
    "from google.genai.types import GenerateContentConfig, Tool\n",
    "\n",
    "client = genai.Client(api_key=gemini_api_key)\n",
    "\n",
    "config_20flash = GenerateContentConfig(system_instruction=messages[0]['content'], tools=[Tool(google_search={})], temperature=0)\n",
    "\n",
    "response_20flash = client.models.generate_content(model=\"gemini-2.0-flash-exp\", config=config_20flash, contents=messages[1]['content'])\n"
   ]
  },
  {
   "cell_type": "code",
   "execution_count": 108,
   "id": "93c50bcf-55ee-4267-9aff-e74244ae7563",
   "metadata": {
    "tags": []
   },
   "outputs": [
    {
     "name": "stdout",
     "output_type": "stream",
     "text": [
      "1.  J.D. Johnson Co. – Dec-2023\n",
      "F.W. Webb acquired J.D. Johnson Co., a Poughkeepsie, NY based HVAC supplier, expanding their presence in the New York market. The acquisition was completed in early December 2023.\n",
      "[https://vertexaisearch.cloud.google.com/grounding-api-redirect/AUBnsYv_T6sv0VbNSD8NfoaUVk-uGgAeqFzfK9aNxicOPD1CCUI0Bw8dtIQtbYHqL-1AuBDaTvHnpwEx4wB6TXiA9uR3GxgR2x8D7mx_tjX4S2R39OALQXczrLJpRd4e9Q7Gcch0Kgy-PpvLzqrtHAAAlZjFHTPO6UYPixvtcHwoLTy0YZcU](https://vertexaisearch.cloud.google.com/grounding-api-redirect/AUBnsYv_T6sv0VbNSD8NfoaUVk-uGgAeqFzfK9aNxicOPD1CCUI0Bw8dtIQtbYHqL-1AuBDaTvHnpwEx4wB6TXiA9uR3GxgR2x8D7mx_tjX4S2R39OALQXczrLJpRd4e9Q7Gcch0Kgy-PpvLzqrtHAAAlZjFHTPO6UYPixvtcHwoLTy0YZcU)\n",
      "\n",
      "2.  Rising Sun Plumbing Supply and Steinberg Plumbing Supply – Jun-2023\n",
      "F.W. Webb acquired two Pennsylvania-based plumbing distributors, Rising Sun Plumbing Supply and Steinberg Plumbing Supply, in June 2023. These acquisitions expanded F.W. Webb's reach in the Philadelphia area.\n",
      "[https://vertexaisearch.cloud.google.com/grounding-api-redirect/AUBnsYsGCsB9MicNGWgG1_0g2m2b9QwtDTz3D-ia50wyH4fomQHOiaNFmRxl4IgRCoGI8pWI8DkwGlh6IoDQQkQr6AqDpqcgSEpMlScxJbU-i6Ib1PF8iHiVNqASyscZbsJwKGd7B9n5YmSq9pnxNLl6469TF5pa4LtPYAPKMC7n5OrH05M7N6nirkEi8BLfPuz5qyxIn0FfS3i-X6j9SnV1WQSlzYUqbmmalIeOx1YvdDw=](https://vertexaisearch.cloud.google.com/grounding-api-redirect/AUBnsYsGCsB9MicNGWgG1_0g2m2b9QwtDTz3D-ia50wyH4fomQHOiaNFmRxl4IgRCoGI8pWI8DkwGlh6IoDQQkQr6AqDpqcgSEpMlScxJbU-i6Ib1PF8iHiVNqASyscZbsJwKGd7B9n5YmSq9pnxNLl6469TF5pa4LtPYAPKMC7n5OrH05M7N6nirkEi8BLfPuz5qyxIn0FfS3i-X6j9SnV1WQSlzYUqbmmalIeOx1YvdDw=)\n",
      "\n",
      "3.  Danbury Plumbing and HVAC Supply Co. – Mar-2021\n",
      "F.W. Webb acquired Danbury Plumbing and HVAC Supply Co., a wholesale distributor in Western Connecticut, in March 2021. This acquisition increased F.W. Webb's presence in Connecticut.\n",
      "[https://vertexaisearch.cloud.google.com/grounding-api-redirect/AUBnsYu7F7_P929ihvLrXPAR5yfnp6JlQeI8BF7n3IJZ8fGJFzQlf_8QEAmi-oW7HoCpFNdVJVgI-L6nN73_331lHn9zwNdV9k6vqXfutgWM0OvXMzOsuG-105vRRzb-HXvUFGTqWgdNip2wUOGAzx4LZZe9Pq6w98iskKdsM3y-umwakmAwy722hhrFWYcxcfkIcihxoKpVJRDxqpgUOnJHLmefV7SxQgpUQCOaKvPlG5IYV3iZ_Oo6](https://vertexaisearch.cloud.google.com/grounding-api-redirect/AUBnsYu7F7_P929ihvLrXPAR5yfnp6JlQeI8BF7n3IJZ8fGJFzQlf_8QEAmi-oW7HoCpFNdVJVgI-L6nN73_331lHn9zwNdV9k6vqXfutgWM0OvXMzOsuG-105vRRzb-HXvUFGTqWgdNip2wUOGAzx4LZZe9Pq6w98iskKdsM3y-umwakmAwy722hhrFWYcxcfkIcihxoKpVJRDxqpgUOnJHLmefV7SxQgpUQCOaKvPlG5IYV3iZ_Oo6)\n",
      "\n",
      "4.  Clean Air Duct & Vent Cleaning – Apr-2021\n",
      "Alliance Environmental Group (AEG), a subsidiary of F.W. Webb, acquired Clean Air Duct & Vent Cleaning, a vent cleaning business based in Gloucester, Massachusetts, in April 2021. This acquisition expanded AEG's indoor air quality service offerings.\n",
      "[https://vertexaisearch.cloud.google.com/grounding-api-redirect/AUBnsYuuIz-SAoMuqPadX1otwHRUArsO6YoPNv7JVOsmZsyJCpi9U10eI1G7Ctu4wmRAJDG5sVK0OmG71eTa1EGRr453C_kM__u6NWa9ydPQQ4MjIH_yXcT-yJs5xcuZwpfFS_7OpjJuU5KSmuMmAQR1U32MX2f0RFKeXO7jhnXXTUoctaTS8dYpsZowp15wGLBbRkGAHJWH-NujE6CCe__FS_nRfEWz72vI_2_Osem8hYibn1fdlJfJyQg=](https://vertexaisearch.cloud.google.com/grounding-api-redirect/AUBnsYuuIz-SAoMuqPadX1otwHRUArsO6YoPNv7JVOsmZsyJCpi9U10eI1G7Ctu4wmRAJDG5sVK0OmG71eTa1EGRr453C_kM__u6NWa9ydPQQ4MjIH_yXcT-yJs5xcuZwpfFS_7OpjJuU5KSmuMmAQR1U32MX2f0RFKeXO7jhnXXTUoctaTS8dYpsZowp15wGLBbRkGAHJWH-NujE6CCe__FS_nRfEWz72vI_2_Osem8hYibn1fdlJfJyQg=)\n",
      "\n",
      "5. The Collins Companies – Jan-2020\n",
      "F.W. Webb acquired The Collins Companies in January 2020. This acquisition expanded F.W. Webb's reach in the New England area.\n",
      "[https://tracxn.com/d/acquisitions/list/F.W.-Webb/12](https://tracxn.com/d/acquisitions/list/F.W.-Webb/12)\n",
      "\n"
     ]
    }
   ],
   "source": [
    "print(response_20flash.text)"
   ]
  },
  {
   "cell_type": "code",
   "execution_count": 112,
   "id": "a96fc028-35f5-40c1-a1c4-08c664055d2e",
   "metadata": {
    "tags": []
   },
   "outputs": [],
   "source": [
    "messages = [\n",
    "    {\n",
    "        \"role\": \"system\",\n",
    "        \"content\": (\n",
    "            '''You are a market research analyst specializing in corporate mergers and acquisitions.\n",
    "                Your task is to gather and summarize credible information from web searches. \n",
    "                You only consider trustworthy sources with clear credentials and safety certificates.\n",
    "            '''\n",
    "        ),\n",
    "    },\n",
    "    {   \n",
    "        \"role\": \"user\",\n",
    "        \"content\": (\n",
    "            '''Search for \"F W Webb merger acquisition\" and follow these steps:\n",
    "\n",
    "                Scan the first 50 search results.\n",
    "                1. Keep only publicly accessible sources. Avoid paid/proprietary databases where full access is restricted.\n",
    "                2. Retain results where F W Webb is mentioned and the source has a published date, ensuring data is from the last 10 years.\n",
    "                3. Keep only results explicitly mentioning mergers or acquisitions involving F W Webb.\n",
    "                4. Remove duplicate articles based on order of appearance in search results. Proceed with analysis only on the filtered list.\n",
    "                5. Exclude any result where the full, original web link is not available.\n",
    "                6. Create a numbered list (max 5 items), sorted by date (latest to oldest), using this format:\n",
    "                    Company Acquired/Merged – MMM-YYYY\n",
    "                    A summary in 2 lines or fewer, mentioning who merged/acquired whom and when, along with any key details.\n",
    "                    Provide the full, original web link to the article or webpage. Do not use shortened, tracking, or search result links.\n",
    "                7. Focus only on verified and relevant sources.\n",
    "                8. If no eligible results are found, return only \"No\" with no additional text.\n",
    "\n",
    "                '''\n",
    "        ),\n",
    "    },\n",
    "]\n"
   ]
  },
  {
   "cell_type": "code",
   "execution_count": 113,
   "id": "0239c849-fe15-4c8c-b717-3f089fabbc06",
   "metadata": {
    "tags": []
   },
   "outputs": [],
   "source": [
    "from google import genai\n",
    "from google.genai.types import GenerateContentConfig, Tool\n",
    "\n",
    "client = genai.Client(api_key=gemini_api_key)\n",
    "\n",
    "config_20flash = GenerateContentConfig(system_instruction=messages[0]['content'], tools=[Tool(google_search={})], temperature=0)\n",
    "\n",
    "response_20flash = client.models.generate_content(model=\"gemini-2.0-flash-exp\", config=config_20flash, contents=messages[1]['content'])\n"
   ]
  },
  {
   "cell_type": "code",
   "execution_count": 114,
   "id": "bbf46660-70c2-43fb-98fe-4080786a6302",
   "metadata": {
    "tags": []
   },
   "outputs": [
    {
     "name": "stdout",
     "output_type": "stream",
     "text": [
      "1.  J.D. Johnson Co. – DEC-2023\n",
      "    F.W. Webb acquired J.D. Johnson Co., a business serving the Poughkeepsie, NY community for over 150 years, to expand its presence in the area. The acquisition was completed on December 4, 2023, and the location now operates as an F.W. Webb wholesale location.\n",
      "    [https://www.supplyht.com/articles/103024-fw-webb-acquires-jd-johnson-co](https://www.supplyht.com/articles/103024-fw-webb-acquires-jd-johnson-co)\n",
      "\n",
      "2.  Rising Sun Plumbing Supply – JUN-2023\n",
      "    F.W. Webb acquired Rising Sun Plumbing Supply, a Philadelphia-based distributor, to expand its reach in the greater Philadelphia market. The acquisition was announced on June 5, 2023, and the location now operates under the F.W. Webb umbrella.\n",
      "    [https://www.mdm.com/news/mergers-acquisitions/f-w-webb-acquires-2-plumbing-distributors-in-philadelphia/](https://www.mdm.com/news/mergers-acquisitions/f-w-webb-acquires-2-plumbing-distributors-in-philadelphia/)\n",
      "\n",
      "3.  Steinberg Plumbing Supply – JUN-2023\n",
      "    F.W. Webb acquired Steinberg Plumbing Supply, located in Elkins Park, PA, to strengthen its presence in the Philadelphia area. The acquisition was announced on June 5, 2023, and the location now operates under the F.W. Webb brand.\n",
      "    [https://www.mdm.com/news/mergers-acquisitions/f-w-webb-acquires-2-plumbing-distributors-in-philadelphia/](https://www.mdm.com/news/mergers-acquisitions/f-w-webb-acquires-2-plumbing-distributors-in-philadelphia/)\n",
      "\n",
      "4.  VJ Stanley – JAN-2022\n",
      "    F.W. Webb acquired VJ Stanley, a plumbing supply company, on January 24, 2022. The specific details of the acquisition were not disclosed.\n",
      "    [https://tracxn.com/d/acquisitions/F.W.-Webb](https://tracxn.com/d/acquisitions/F.W.-Webb)\n",
      "\n",
      "5.  Stritt & Priebe – JAN-2022\n",
      "    F.W. Webb acquired Stritt & Priebe, another plumbing supply company, on January 24, 2022. The specific details of the acquisition were not disclosed.\n",
      "    [https://tracxn.com/d/acquisitions/F.W.-Webb](https://tracxn.com/d/acquisitions/F.W.-Webb)\n",
      "\n"
     ]
    }
   ],
   "source": [
    "print(response_20flash.text)"
   ]
  },
  {
   "cell_type": "markdown",
   "id": "85599ca8-6a0d-4c32-b6e8-fb7cf33bd658",
   "metadata": {},
   "source": [
    "Search Result Snippets: LLMs often rely on the snippets provided by the search engine, which are short summaries of the web page content.  The actual URL might be associated with the entire page, but the LLM might only have access to the snippet and its associated (sometimes truncated or redirected) URL.\n",
    "\n",
    "Dynamic Content: Web pages are dynamic.  The content that the search engine indexed might be different from what's on the page when the LLM tries to access it.  This can lead to broken links or content mismatches.\n",
    "\n",
    "Paywalls and Restrictions: Even if the initial search result indicated a publicly accessible page, the website might have implemented changes (paywalls, registration requirements) that restrict access.  The LLM doesn't have a way to \"log in\" or bypass these restrictions.\n",
    "\n",
    "URL Shortening/Tracking: Some websites use URL shorteners or tracking links, which can make it difficult to determine the actual destination URL.  The LLM might present the shortened/tracked link, which could be less reliable.\n",
    "\n",
    "LLM Interpretation: Even with the correct URL, the LLM might not always present it correctly in the response.  Sometimes, it can get confused with formatting or other elements in the search result.\n",
    "\n",
    "Strategies to Improve Link Reliability:\n",
    "\n",
    "Explicitly Request Links: In your prompt, be very clear that you need the original, fully functional web links.  For example:  \"Provide the full, original web link to each source.  Do not use shortened links or links to search result pages.  I need the direct link to the article or web page itself.\"  The more explicit you are, the better the chances.\n",
    "\n",
    "Limit Snippet Dependence (If Possible):  If the API allows it, explore options to make the LLM rely less on snippets and more on the actual page content (though this might be more computationally expensive).  This is not always an available option but is worth investigating in the API documentation.\n",
    "\n",
    "Post-Processing:  The most reliable approach is often to post-process the LLM's output.  This means taking the links provided by the LLM and then programmatically checking them for validity.  You can use a library like requests in Python to make HTTP requests to the URLs and check the status codes (200 OK, 404 Not Found, etc.).  This allows you to filter out broken links or redirect to paywalls.\n",
    "\n",
    "Specify Acceptable Domains:  If you're looking for information from specific, reputable sources, you can tell the LLM to prioritize those domains.  This can increase the likelihood of getting reliable links.  For example, \"Focus on sources from reputable news organizations like the New York Times, Reuters, or the Wall Street Journal.\"\n",
    "\n",
    "Iterative Refinement: If you get a broken link, try rephrasing your query or requesting the information again.  Sometimes, the LLM might provide a different link on a subsequent attempt.\n",
    "\n",
    "Human Verification: For critical information, always verify the links and the content yourself.  LLMs are powerful tools, but they are not perfect.  Human oversight is still essential.\n",
    "\n",
    "Example Post-Processing (Python):"
   ]
  },
  {
   "cell_type": "code",
   "execution_count": null,
   "id": "500133f7-5878-46b4-bcad-28ade5f7a3f3",
   "metadata": {},
   "outputs": [],
   "source": []
  }
 ],
 "metadata": {
  "kernelspec": {
   "display_name": "env_langchain",
   "language": "python",
   "name": "env_langchain"
  },
  "language_info": {
   "codemirror_mode": {
    "name": "ipython",
    "version": 3
   },
   "file_extension": ".py",
   "mimetype": "text/x-python",
   "name": "python",
   "nbconvert_exporter": "python",
   "pygments_lexer": "ipython3",
   "version": "3.10.13"
  }
 },
 "nbformat": 4,
 "nbformat_minor": 5
}
