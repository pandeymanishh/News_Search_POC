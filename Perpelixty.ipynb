{
 "cells": [
  {
   "cell_type": "markdown",
   "id": "abbf7375-8897-45d2-bf83-859358496a65",
   "metadata": {},
   "source": [
    "## Using Perplexity (Sonar, Sonar Pro) and Gemini (1.5 Flash,1.5 Pro, 2.0 Flash) models to Automate web search and summarization\n",
    "\n",
    "<b>Example used later in this notebook\n",
    "* Company : F W Webb \n",
    "* Task : use web search to summarize MnA events involving the company of interest\n",
    "\n",
    "<b> Success Criterions : \n",
    "* Relevance of item with company and task\n",
    "* Assessbility and reliability of the source\n",
    "\n",
    "<b>Prompts were designed and refined in multiple iterations using ChatGPT, Gemini and DeepSeek R1 models"
   ]
  },
  {
   "cell_type": "markdown",
   "id": "5297a5b5-ba51-4ac5-9a0d-80b67c4df175",
   "metadata": {},
   "source": [
    "### Import API keys"
   ]
  },
  {
   "cell_type": "code",
   "execution_count": 1,
   "id": "3b8d2a45-7453-40d4-bbf4-cef6858ad47a",
   "metadata": {
    "tags": []
   },
   "outputs": [],
   "source": [
    "import yaml\n",
    "with open(\"config.yml\", \"r\") as file:\n",
    "    api_keys = yaml.safe_load(file)\n",
    "\n",
    "# print(api_keys)"
   ]
  },
  {
   "cell_type": "markdown",
   "id": "36065388-cd9d-44bc-b137-68baed58315c",
   "metadata": {},
   "source": [
    "### Prompt"
   ]
  },
  {
   "cell_type": "code",
   "execution_count": 2,
   "id": "94662ee2-b212-477f-8ff0-94c45ef01146",
   "metadata": {
    "tags": []
   },
   "outputs": [],
   "source": [
    "from openai import OpenAI\n",
    "\n",
    "perplexity_api_key = api_keys['perplexity_api_key']\n",
    "\n",
    "messages = [\n",
    "    {\n",
    "        \"role\": \"system\",\n",
    "        \"content\": (\n",
    "            '''You are a market research analyst specializing in corporate mergers and acquisitions.\n",
    "                Your task is to gather and summarize credible information from web searches. \n",
    "                You only consider trustworthy sources with clear credentials and safety certificates.\n",
    "            '''\n",
    "        ),\n",
    "    },\n",
    "    {   \n",
    "        \"role\": \"user\",\n",
    "        \"content\": (\n",
    "            '''Search for \"F W Webb merger acquisition\" and follow these steps:\n",
    "\n",
    "                1. Scan the first 50 search results.\n",
    "                2. Keep the results where F W Webb is mentioned and the source has a published date. Only keep information going back 10 years only.\n",
    "                2. Only keep the results which mentions merger or acquisitions involving F W Webb. \n",
    "                3. Remove duplicate articles based on order of appearance in search results.\n",
    "                4. Summarize each event in ≤2 lines, mentioning who merged/acquired whom and when, along with any key details.\n",
    "                5. Create a numbered list (max 5 items) sorted by date (latest to oldest), formatted as:\n",
    "                Company Acquired/Merged – MMM-YYYY : Short summary, Web Link to Source:\n",
    "                6. Focus only on verified and relevant sources.\n",
    "                7. Final response should only contains the numbered list with no additional text. If no eligible searches were found reponse only with the word No\n",
    "                '''\n",
    "        ),\n",
    "    },\n",
    "]\n"
   ]
  },
  {
   "cell_type": "code",
   "execution_count": 3,
   "id": "66de231d-8d62-4964-9b18-4092e36fd6ee",
   "metadata": {
    "tags": []
   },
   "outputs": [
    {
     "name": "stdout",
     "output_type": "stream",
     "text": [
      "ChatCompletion(id='5e849b7e-5c5c-4728-b922-ea6cfc235054', choices=[Choice(finish_reason='stop', index=0, logprobs=None, message=ChatCompletionMessage(content='1. **Rising Sun Plumbing Supply and Steinberg Plumbing Supply – Jun-2023**: F.W. Webb acquired Rising Sun Plumbing Supply and Steinberg Plumbing Supply, both based in Pennsylvania, expanding its presence in the Philadelphia area. [5]\\n2. **Danbury Plumbing and HVAC Supply Co. – Mar-2023**: F.W. Webb acquired Danbury Plumbing and HVAC Supply Co., enhancing its presence in Connecticut by adding another wholesale location and a Frank Webb Home showroom. [1][3]\\n3. No additional acquisitions were found within the specified timeframe.', role='assistant', function_call=None, tool_calls=None), delta={'role': 'assistant', 'content': ''})], created=1738160223, model='sonar', object='chat.completion', service_tier=None, system_fingerprint=None, usage=CompletionUsage(completion_tokens=114, prompt_tokens=249, total_tokens=363), citations=['https://hvacinsider.com/f-w-webb-company-acquires-danbury-plumbing-and-hvac-supply-co/', 'https://edisciplinas.usp.br/pluginfile.php/5547326/mod_resource/content/1/Willmer,%20Stone%20%20Johsnton_Environmental-physiology-of-animals.pdf', 'https://www.mdm.com/news/tech-operations/operations/f-w-webb-acquires-danbury-plumbing-and-hvac-supply/', 'https://www.ahajournals.org/doi/10.1161/CIR.0000000000000923', 'https://www.mdm.com/news/operations/mergers-acquisitions/f-w-webb-acquires-2-plumbing-distributors-in-philadelphia/'])\n"
     ]
    }
   ],
   "source": [
    "client = OpenAI(api_key=perplexity_api_key, base_url=\"https://api.perplexity.ai\")\n",
    "\n",
    "# chat completion without streaming\n",
    "response = client.chat.completions.create(\n",
    "    model=\"sonar\",\n",
    "    messages=messages,\n",
    ")\n",
    "print(response)"
   ]
  },
  {
   "cell_type": "markdown",
   "id": "bef756b3-1ebf-48fb-b978-4ae2470797d4",
   "metadata": {},
   "source": [
    "#### Sonar API Output"
   ]
  },
  {
   "cell_type": "code",
   "execution_count": 4,
   "id": "a1dd7571-4acb-4a22-a671-7fae1ae21644",
   "metadata": {
    "tags": []
   },
   "outputs": [
    {
     "name": "stdout",
     "output_type": "stream",
     "text": [
      "1. **Rising Sun Plumbing Supply and Steinberg Plumbing Supply – Jun-2023**: F.W. Webb acquired Rising Sun Plumbing Supply and Steinberg Plumbing Supply, both based in Pennsylvania, expanding its presence in the Philadelphia area. [5]\n",
      "2. **Danbury Plumbing and HVAC Supply Co. – Mar-2023**: F.W. Webb acquired Danbury Plumbing and HVAC Supply Co., enhancing its presence in Connecticut by adding another wholesale location and a Frank Webb Home showroom. [1][3]\n",
      "3. No additional acquisitions were found within the specified timeframe.\n"
     ]
    }
   ],
   "source": [
    "response_dict = response.to_dict()\n",
    "print(response_dict['choices'][0]['message']['content'])"
   ]
  },
  {
   "cell_type": "markdown",
   "id": "63ae21d4-4259-4ca0-9cf0-e808eca76904",
   "metadata": {},
   "source": [
    "#### Sonar API Citations"
   ]
  },
  {
   "cell_type": "code",
   "execution_count": 5,
   "id": "ea030df1-5741-4b30-87ba-14c88af60897",
   "metadata": {
    "tags": []
   },
   "outputs": [
    {
     "name": "stdout",
     "output_type": "stream",
     "text": [
      "1: https://hvacinsider.com/f-w-webb-company-acquires-danbury-plumbing-and-hvac-supply-co/\n",
      "2: https://edisciplinas.usp.br/pluginfile.php/5547326/mod_resource/content/1/Willmer,%20Stone%20%20Johsnton_Environmental-physiology-of-animals.pdf\n",
      "3: https://www.mdm.com/news/tech-operations/operations/f-w-webb-acquires-danbury-plumbing-and-hvac-supply/\n",
      "4: https://www.ahajournals.org/doi/10.1161/CIR.0000000000000923\n",
      "5: https://www.mdm.com/news/operations/mergers-acquisitions/f-w-webb-acquires-2-plumbing-distributors-in-philadelphia/\n"
     ]
    }
   ],
   "source": [
    "for i,x in enumerate(response_dict['citations']):\n",
    "    print(f\"{i+1}: {x}\")\n",
    "# print(response_dict['citations'])"
   ]
  },
  {
   "cell_type": "markdown",
   "id": "541c4540-b453-476c-a2c6-f861811c2704",
   "metadata": {},
   "source": [
    "### Perplexity Sonar Pro API"
   ]
  },
  {
   "cell_type": "code",
   "execution_count": 6,
   "id": "9d3f7382-9277-4070-a500-673e93c73ad7",
   "metadata": {
    "tags": []
   },
   "outputs": [
    {
     "name": "stdout",
     "output_type": "stream",
     "text": [
      "ChatCompletion(id='928a8065-58bd-4859-92c0-46aac862d5ad', choices=[Choice(finish_reason='stop', index=0, logprobs=None, message=ChatCompletionMessage(content='1. Danbury Plumbing and HVAC Supply Co. - Mar-2023: F.W. Webb acquired Western Connecticut wholesale distributor, increasing presence in Connecticut. https://www.mdm.com/news/tech-operations/operations/f-w-webb-acquires-danbury-plumbing-and-hvac-supply/\\n\\n2. Rising Sun Plumbing Supply and Steinberg Plumbing Supply - Jun-2023: F.W. Webb acquired two Pennsylvania-based plumbing, heating and industrial supply distributors. https://www.mdm.com/news/operations/mergers-acquisitions/f-w-webb-acquires-2-plumbing-distributors-in-philadelphia/\\n\\n3. J.D. Johnson Co. - Dec-2023: F.W. Webb acquired J.D. Johnson Co. in Poughkeepsie, NY, expanding its presence in New York state. https://www.businesswire.com/news/home/20231204042654/en/F.W.-Webb-Expands-to-Poughkeepsie-NY-Through-Its-Acquisition-of-J.D.-Johnson-Co.\\n\\n4. Grant Supply Co. - Jun-2015: F.W. Webb acquired Grant Supply Co., adding two customer sites in southern New Jersey. https://www.supplyht.com/articles/98609-fw-webb-acquires-grant-supply', role='assistant', function_call=None, tool_calls=None), delta={'role': 'assistant', 'content': ''})], created=1738160251, model='sonar-pro', object='chat.completion', service_tier=None, system_fingerprint=None, usage=CompletionUsage(completion_tokens=334, prompt_tokens=249, total_tokens=583, citation_tokens=3098, num_search_queries=1), citations=['https://hvacinsider.com/f-w-webb-company-acquires-danbury-plumbing-and-hvac-supply-co/', 'https://www.mdm.com/news/tech-operations/operations/f-w-webb-acquires-danbury-plumbing-and-hvac-supply/', 'https://www.mdm.com/news/operations/mergers-acquisitions/f-w-webb-acquires-2-plumbing-distributors-in-philadelphia/', 'https://www.supplyht.com/articles/98609-fw-webb-acquires-grant-supply', 'https://www.businesswire.com/news/home/20231204042654/en/F.W.-Webb-Expands-to-Poughkeepsie-NY-Through-Its-Acquisition-of-J.D.-Johnson-Co.', 'https://www.inddist.com/home/news/13767943/fw-webb-now-a-master-distributor-for-armstrong-international', 'https://www.inddist.com/home/news/13769388/fw-webb-company-expands-into-pennsylvania'])\n"
     ]
    }
   ],
   "source": [
    "response_pro = client.chat.completions.create(\n",
    "    model=\"sonar-pro\",\n",
    "    messages=messages,\n",
    ")\n",
    "print(response_pro)"
   ]
  },
  {
   "cell_type": "code",
   "execution_count": 39,
   "id": "28a8e2d5-3e6b-4c83-8404-3a20835d49bc",
   "metadata": {
    "tags": []
   },
   "outputs": [
    {
     "name": "stdout",
     "output_type": "stream",
     "text": [
      "1. **J.D. Johnson Co.** – Dec-2023 : F.W. Webb acquired J.D. Johnson Co., expanding its presence in Poughkeepsie, NY, with a new wholesale location offering extensive inventory and services. [5]\n",
      "2. **Rising Sun Plumbing Supply and Steinberg Plumbing Supply** – Jun-2023 : F.W. Webb acquired these two Philadelphia-based distributors, enhancing its presence in the Greater Philadelphia market. [3]\n",
      "3. **Danbury Plumbing and HVAC Supply Co.** – Mar-2023 : F.W. Webb acquired Danbury Plumbing, increasing its presence in Connecticut and expanding its services to more contractors. [1][2]\n",
      "4. **Grant Supply Co.** – Jun-2015 : F.W. Webb acquired Grant Supply, adding locations in Pleasantville and North Brunswick, NJ, to its network. [4]\n"
     ]
    }
   ],
   "source": [
    "response_dict = response.to_dict()\n",
    "print(response_dict['choices'][0]['message']['content'])"
   ]
  },
  {
   "cell_type": "code",
   "execution_count": 40,
   "id": "4f739a25-eac2-4977-a2a3-7e7e23f97dec",
   "metadata": {
    "tags": []
   },
   "outputs": [
    {
     "name": "stdout",
     "output_type": "stream",
     "text": [
      "1: https://hvacinsider.com/f-w-webb-company-acquires-danbury-plumbing-and-hvac-supply-co/\n",
      "2: https://www.mdm.com/news/tech-operations/operations/f-w-webb-acquires-danbury-plumbing-and-hvac-supply/\n",
      "3: https://www.mdm.com/news/operations/mergers-acquisitions/f-w-webb-acquires-2-plumbing-distributors-in-philadelphia/\n",
      "4: https://www.supplyht.com/articles/98609-fw-webb-acquires-grant-supply\n",
      "5: https://www.businesswire.com/news/home/20231204042654/en/F.W.-Webb-Expands-to-Poughkeepsie-NY-Through-Its-Acquisition-of-J.D.-Johnson-Co.\n"
     ]
    }
   ],
   "source": [
    "for i,x in enumerate(response_dict['citations']):\n",
    "    print(f\"{i+1}: {x}\")\n",
    "# print(response_dict['citations'])"
   ]
  },
  {
   "cell_type": "markdown",
   "id": "ca9ccf6f-4229-406b-a0c7-7b922048ed14",
   "metadata": {},
   "source": [
    "#### Sonar Pro API Output"
   ]
  },
  {
   "cell_type": "code",
   "execution_count": 7,
   "id": "e31c48c4-3bbc-4b78-8436-516768f7336c",
   "metadata": {},
   "outputs": [
    {
     "name": "stdout",
     "output_type": "stream",
     "text": [
      "1. Danbury Plumbing and HVAC Supply Co. - Mar-2023: F.W. Webb acquired Western Connecticut wholesale distributor, increasing presence in Connecticut. https://www.mdm.com/news/tech-operations/operations/f-w-webb-acquires-danbury-plumbing-and-hvac-supply/\n",
      "\n",
      "2. Rising Sun Plumbing Supply and Steinberg Plumbing Supply - Jun-2023: F.W. Webb acquired two Pennsylvania-based plumbing, heating and industrial supply distributors. https://www.mdm.com/news/operations/mergers-acquisitions/f-w-webb-acquires-2-plumbing-distributors-in-philadelphia/\n",
      "\n",
      "3. J.D. Johnson Co. - Dec-2023: F.W. Webb acquired J.D. Johnson Co. in Poughkeepsie, NY, expanding its presence in New York state. https://www.businesswire.com/news/home/20231204042654/en/F.W.-Webb-Expands-to-Poughkeepsie-NY-Through-Its-Acquisition-of-J.D.-Johnson-Co.\n",
      "\n",
      "4. Grant Supply Co. - Jun-2015: F.W. Webb acquired Grant Supply Co., adding two customer sites in southern New Jersey. https://www.supplyht.com/articles/98609-fw-webb-acquires-grant-supply\n"
     ]
    }
   ],
   "source": [
    "response_pro_dict = response_pro.to_dict()\n",
    "print(response_pro_dict['choices'][0]['message']['content'])"
   ]
  },
  {
   "cell_type": "markdown",
   "id": "bec89c01-6a50-46b0-996f-79016c85e792",
   "metadata": {},
   "source": [
    "#### Sonar Pro API Citations"
   ]
  },
  {
   "cell_type": "code",
   "execution_count": 8,
   "id": "cafa654a-6a30-4e9f-afcc-3f66d3da6152",
   "metadata": {
    "tags": []
   },
   "outputs": [
    {
     "name": "stdout",
     "output_type": "stream",
     "text": [
      "1: https://hvacinsider.com/f-w-webb-company-acquires-danbury-plumbing-and-hvac-supply-co/\n",
      "2: https://www.mdm.com/news/tech-operations/operations/f-w-webb-acquires-danbury-plumbing-and-hvac-supply/\n",
      "3: https://www.mdm.com/news/operations/mergers-acquisitions/f-w-webb-acquires-2-plumbing-distributors-in-philadelphia/\n",
      "4: https://www.supplyht.com/articles/98609-fw-webb-acquires-grant-supply\n",
      "5: https://www.businesswire.com/news/home/20231204042654/en/F.W.-Webb-Expands-to-Poughkeepsie-NY-Through-Its-Acquisition-of-J.D.-Johnson-Co.\n",
      "6: https://www.inddist.com/home/news/13767943/fw-webb-now-a-master-distributor-for-armstrong-international\n",
      "7: https://www.inddist.com/home/news/13769388/fw-webb-company-expands-into-pennsylvania\n"
     ]
    }
   ],
   "source": [
    "for i,x in enumerate(response_pro_dict['citations']):\n",
    "    print(f\"{i+1}: {x}\")\n",
    "# print(response_dict['citations'])"
   ]
  },
  {
   "cell_type": "markdown",
   "id": "e3928e37-9afa-4a58-b345-0b8e41b0da34",
   "metadata": {},
   "source": [
    "### Gemini 1.5 Flash"
   ]
  },
  {
   "cell_type": "code",
   "execution_count": 9,
   "id": "ee21c77a-871e-46fa-904b-ffb05a39948d",
   "metadata": {
    "tags": []
   },
   "outputs": [],
   "source": [
    "import google.generativeai as genai\n",
    "gemini_api_key = api_keys['gemini_api_key']\n",
    "genai.configure(api_key=gemini_api_key)"
   ]
  },
  {
   "cell_type": "code",
   "execution_count": 10,
   "id": "ef0d74b1-9112-451d-86ac-152ff03c2a4c",
   "metadata": {
    "tags": []
   },
   "outputs": [
    {
     "name": "stdout",
     "output_type": "stream",
     "text": [
      "1. J.D. Johnson Co. – Dec-2023: F.W. Webb acquired J.D. Johnson Co., opening a new wholesale location in Poughkeepsie, NY. This acquisition expanded F.W. Webb's presence in the Northeast.\n",
      "\n",
      "2. Rising Sun Plumbing Supply & Steinberg Plumbing Supply – Jun-2023: F.W. Webb acquired two Pennsylvania-based plumbing distributors, Rising Sun and Steinberg, expanding its market reach in the Philadelphia area.\n",
      "\n",
      "3. Danbury Plumbing and HVAC Supply Co. – Mar-2021: F.W. Webb acquired Danbury Plumbing and HVAC Supply Co., a Western Connecticut distributor serving Fairfield, Litchfield, and New Haven counties for over 100 years.\n",
      "\n",
      "\n"
     ]
    }
   ],
   "source": [
    "model_15flash = genai.GenerativeModel(\n",
    "    \"models/gemini-1.5-flash\", system_instruction=messages[0]['content'], tools='google_search_retrieval'\n",
    ")\n",
    "response_15flash = model_15flash.generate_content(messages[1]['content'])\n",
    "print(response_15flash.text)"
   ]
  },
  {
   "cell_type": "markdown",
   "id": "1601224c-cf3f-41f7-86e9-95b96c1d4d74",
   "metadata": {},
   "source": [
    "#### Geminin 1.5 Flash citations"
   ]
  },
  {
   "cell_type": "code",
   "execution_count": 11,
   "id": "cbdd3940-dca8-40d5-ad08-9bcb2fd5ecbd",
   "metadata": {
    "tags": []
   },
   "outputs": [
    {
     "data": {
      "text/plain": [
       "[web {\n",
       "  uri: \"https://vertexaisearch.cloud.google.com/grounding-api-redirect/AUBnsYvYpke4EfjqhCSYSeBtu2F_e2ZpVO0EtVHlQAPsqNRaD4xX0qK9Wh6moZNcYVSU9UbsLgLPIwu7uPRSdL_E7kfYjf5Gb7jRsudCMqNy7e710ye20sUHpEC1ZjDJJ1398dQ9hzAJojzj2CO7\"\n",
       "  title: \"pitchbook.com\"\n",
       "}\n",
       ", web {\n",
       "  uri: \"https://vertexaisearch.cloud.google.com/grounding-api-redirect/AUBnsYvdsRj6qBRhilOcIVkwJkfnL7yGPyiJ00ipCO1Wmk_AIYlZPhpWRdbqZWFQ9L9Tq7q3Tgr4BeGKb7vL7cbTBsOjFPtftOcT-HqS9DzqvJ8Ltq24cx-y0c0fmRGKjvTfGTHUo9bUNZXM0oi7YaR63iwGM_7JH-ZpNsvBttdNL8HMMEAl\"\n",
       "  title: \"citybiz.co\"\n",
       "}\n",
       ", web {\n",
       "  uri: \"https://vertexaisearch.cloud.google.com/grounding-api-redirect/AUBnsYtt2pDxzqqq_l35Qpz_YMR12cPYiezlUN3w6O4PvmNjjmj2j0XX2__ZKl7pFQNwN77hiZinXPRX-EM3JjldVoKM9GXBE6S_SR4TjFlvJwYVGCeY6MQSJxPGWD0G79xRa83uWq7hmQF_He1mWzQuFCY_fKbd5jp31679vp1S2U-bYBz0\"\n",
       "  title: \"supplyht.com\"\n",
       "}\n",
       ", web {\n",
       "  uri: \"https://vertexaisearch.cloud.google.com/grounding-api-redirect/AUBnsYvpNrZ8i40BlDpQwgRO52Dqrtnd6Zah4mqJ2Gvh0_sSC70tzGB3XS8aZ3XZJN3NybDiMXBStD_vay4mA5n7ThprKMOCe5uvhO4FdFjUxofmSjNdlkP7ZUUuqW2tT4fidTL5k7C7drlKL82hzp-R-PvdD5fX0QREJFq9xVYxx7fvckvHnx3Nfk0VrRu27tZPwlGtZVWtM9B9C2lXjUhwynPHT2_idYzFWRSIUmy8a8Q=\"\n",
       "  title: \"mdm.com\"\n",
       "}\n",
       ", web {\n",
       "  uri: \"https://vertexaisearch.cloud.google.com/grounding-api-redirect/AUBnsYsoC6nu3g9jNnz60xkUEZXnRWNN5ngVGlPqyEWzuVFyo8RcbqHFEDq32GwmI3NjCxkl7fjrxA_2f8EtuyIJHV0J8jRlxNDQWA5w_d9yM_5Y7NWWG-s4lF39rsCuIzpPEO167zGheRnwPKsljZp-lsTw4fEJGsrqQ9M9T36e3Dl3hLbrkF8pGl1kru_2p5TBS037PoPEicQ8QCJzxETRVpfEEzDX_LO33W1uvINBVUc2pbkLDlBs\"\n",
       "  title: \"inddist.com\"\n",
       "}\n",
       "]"
      ]
     },
     "execution_count": 11,
     "metadata": {},
     "output_type": "execute_result"
    }
   ],
   "source": [
    "response_15flash.candidates[0].grounding_metadata.grounding_chunks"
   ]
  },
  {
   "cell_type": "markdown",
   "id": "891bc7d5-b490-4744-ae08-cd567f811755",
   "metadata": {},
   "source": [
    "### Gemini 1.5 Pro"
   ]
  },
  {
   "cell_type": "code",
   "execution_count": 12,
   "id": "27ae25c6-8ede-4e80-9cb5-2c31c2f1a0e9",
   "metadata": {
    "tags": []
   },
   "outputs": [
    {
     "name": "stdout",
     "output_type": "stream",
     "text": [
      "1. J.D. Johnson Co. – Dec-2023: F.W. Webb acquired J.D. Johnson Co., opening a new wholesale location in Poughkeepsie, NY.\n",
      "2. Rising Sun Plumbing Supply & Steinberg Plumbing Supply – Jun-2023: F.W. Webb acquired these two Pennsylvania-based plumbing distributors.\n",
      "3. Danbury Plumbing and HVAC Supply Co. – Mar-2021: F.W. Webb acquired this Western Connecticut wholesale distributor.\n",
      "\n",
      "\n",
      "\n"
     ]
    }
   ],
   "source": [
    "model_15pro = genai.GenerativeModel(\n",
    "    \"models/gemini-1.5-pro\", system_instruction=messages[0]['content'], tools='google_search_retrieval'\n",
    ")\n",
    "response_15pro = model_15pro.generate_content(messages[1]['content'])\n",
    "print(response_15pro.text)"
   ]
  },
  {
   "cell_type": "markdown",
   "id": "e619ddd1-6f98-4306-84c1-badf6e53dad9",
   "metadata": {},
   "source": [
    "#### Geminin 1.5 Pro Citations"
   ]
  },
  {
   "cell_type": "code",
   "execution_count": 13,
   "id": "6c2c2e4f-b6f5-4189-8cb1-d795f8f1e97c",
   "metadata": {
    "tags": []
   },
   "outputs": [
    {
     "data": {
      "text/plain": [
       "[web {\n",
       "  uri: \"https://vertexaisearch.cloud.google.com/grounding-api-redirect/AUBnsYuVDi0-A_wlCfuAPfd4qh7MvHdSV7782uC8XDMY10ysU6sPXAmxaWwP_HXthRQdh2NZS_874_Ji6CWp19cbx6ay12x6IfBFHS3KdK7V3FmajR8Nbbnx5d8GBycsFFooSgVRo1zEGwlofCvK\"\n",
       "  title: \"pitchbook.com\"\n",
       "}\n",
       ", web {\n",
       "  uri: \"https://vertexaisearch.cloud.google.com/grounding-api-redirect/AUBnsYvYTAFHKpLlihnBSSeW4sER5c3Pk2xAqIFy9JaCS2PkxnMTz6HlOiIp6vb3Pyu_nJ4jBUFJ5fu-HVuvAEpFfnMgAkGBKJCS3mw5Y5f6GaNKsj90KmM0eeDCyuy6JrZczO0ZAca6jabVDeAfU9CmH2ujNSB6sDNhZ8Fi9KHvj8CSbPEB\"\n",
       "  title: \"citybiz.co\"\n",
       "}\n",
       ", web {\n",
       "  uri: \"https://vertexaisearch.cloud.google.com/grounding-api-redirect/AUBnsYubV5ZPc53-DLeQwELWxbGGVSZ1AgvERHjQgm7nCA7OvVnp4RNxqNaDCN6ebRuHVDSL3d5dcvjFmagl8zeDcmySyCoFZlkTIX624H5DC8fiS38kJc_01kxfW4Gdo3eOI7h6N8AJVJxk04S7PSbj7mnixUD1iJJC4T_CMvHqrq4LfmDo\"\n",
       "  title: \"supplyht.com\"\n",
       "}\n",
       ", web {\n",
       "  uri: \"https://vertexaisearch.cloud.google.com/grounding-api-redirect/AUBnsYv8rHNIZkEei8MtCILr7Gq5cRpcj8VHwEIsidAG8253EEQpIudk_61zjs2a545MHGOCvkqMmAraCEaWzkCGydF9yuCQZWSHWaNyl_GNf-8kewGlvhy7Q2fjgDm6ZwSQHk_SucI2nHE7PkUrKNzC58dUfTtUOlm6ZEjX_517qPvfY-Rqd1yqVn2Tvq92rsf3O5wIKeRoV1vUj9e9_HrF_DXydKc8Plp4WtwllPY1kAc=\"\n",
       "  title: \"mdm.com\"\n",
       "}\n",
       ", web {\n",
       "  uri: \"https://vertexaisearch.cloud.google.com/grounding-api-redirect/AUBnsYuJeQgiaRaiXh8vuhI2yo8G4Zm1-wBtneQpqDM2tsSdARuJ8xAi6rnS5VjvSxh7MxPFNZ8-cbThKT7mvgZq4ZxGhvC8D4maGU4dPUkdzNiU6fQPkniSzFzH2euZraYkRXyYq8Pn5h13kSmt0XWgF7Os98sNhoBv7bIHEqGV-X80wbolw4-7XANJ_vK5Adf-w_4ANNTzyt_We3-CXNwZldNX5eInXzvp4-TFl4leTDzSXsZhHlEO\"\n",
       "  title: \"inddist.com\"\n",
       "}\n",
       "]"
      ]
     },
     "execution_count": 13,
     "metadata": {},
     "output_type": "execute_result"
    }
   ],
   "source": [
    "response_15pro.candidates[0].grounding_metadata.grounding_chunks"
   ]
  },
  {
   "cell_type": "code",
   "execution_count": 68,
   "id": "3e9630f1-a607-4448-8bbd-3736e4439f2d",
   "metadata": {
    "tags": []
   },
   "outputs": [],
   "source": [
    "# !pip install -U -q google-genai"
   ]
  },
  {
   "cell_type": "markdown",
   "id": "f113498f-b410-48e5-8dd8-e8755370f50d",
   "metadata": {},
   "source": [
    "### Gemini 2.0 Flash - Latest Model from Gemini Family"
   ]
  },
  {
   "cell_type": "code",
   "execution_count": 14,
   "id": "8227286e-3f1e-4e7f-b726-c4850f666036",
   "metadata": {
    "tags": []
   },
   "outputs": [
    {
     "name": "stderr",
     "output_type": "stream",
     "text": [
      "E:\\Anaconda\\lib\\site-packages\\pydantic\\_internal\\_generate_schema.py:355: UserWarning: <built-in function any> is not a Python type (it may be an instance of an object), Pydantic will allow any object with no validation since we cannot even enforce that the input is an instance of the given type. To get rid of this error wrap the type with `pydantic.SkipValidation`.\n",
      "  warn(\n"
     ]
    }
   ],
   "source": [
    "from google import genai\n",
    "from google.genai.types import GenerateContentConfig, Tool\n",
    "\n",
    "client = genai.Client(api_key=gemini_api_key)\n",
    "\n",
    "config_20flash = GenerateContentConfig(system_instruction=messages[0]['content'], tools=[Tool(google_search={})], temperature=0)\n",
    "\n",
    "response_20flash = client.models.generate_content(model=\"gemini-2.0-flash-exp\", config=config_20flash, contents=messages[1]['content'])\n"
   ]
  },
  {
   "cell_type": "code",
   "execution_count": 15,
   "id": "9c141377-c1fb-4ffd-b6c1-e0fd30399727",
   "metadata": {
    "tags": []
   },
   "outputs": [
    {
     "name": "stdout",
     "output_type": "stream",
     "text": [
      "1.  J.D. Johnson Co. – Dec-2023: F.W. Webb acquired J.D. Johnson Co., expanding its presence in Poughkeepsie, New York. This acquisition added to F.W. Webb's 150+ year commitment to customer service. Web Link to Source: [https://supplyht.com/articles/103007-fw-webb-acquires-jd-johnson-co](https://supplyht.com/articles/103007-fw-webb-acquires-jd-johnson-co)\n",
      "2.  Rising Sun Plumbing Supply and Steinberg Plumbing Supply – Jun-2023: F.W. Webb acquired these two Pennsylvania-based plumbing suppliers, expanding its reach in the Philadelphia metro area. Both companies have served the region for decades. Web Link to Source: [https://www.inddist.com/mergers-acquisitions/news/22528278/fw-webb-acquires-pennsylvania-plumbing-suppliers](https://www.inddist.com/mergers-acquisitions/news/22528278/fw-webb-acquires-pennsylvania-plumbing-suppliers)\n",
      "3.  VJ Stanley and Stritt & Priebe – Jan-2022: F.W. Webb acquired both VJ Stanley and Stritt & Priebe. The specific details of these acquisitions were not disclosed. Web Link to Source: [https://tracxn.com/d/acquisitions/by/F.W.-Webb](https://tracxn.com/d/acquisitions/by/F.W.-Webb)\n",
      "4.  Danbury Plumbing & Supply – Mar-2021: F.W. Webb acquired Danbury Plumbing & Supply. The specific details of this acquisition were not disclosed. Web Link to Source: [https://tracxn.com/d/acquisitions/by/F.W.-Webb](https://tracxn.com/d/acquisitions/by/F.W.-Webb)\n",
      "5.  The Collins Companies – Jan-2020: F.W. Webb acquired The Collins Companies. The specific details of this acquisition were not disclosed. Web Link to Source: [https://tracxn.com/d/acquisitions/by/F.W.-Webb](https://tracxn.com/d/acquisitions/by/F.W.-Webb)\n",
      "\n"
     ]
    }
   ],
   "source": [
    "print(response_20flash.text)"
   ]
  },
  {
   "cell_type": "markdown",
   "id": "09d6274c-0701-474d-bee5-d23dd76b0091",
   "metadata": {},
   "source": [
    "#### Gemini 2.0 Citations"
   ]
  },
  {
   "cell_type": "code",
   "execution_count": 16,
   "id": "53be27d0-12ee-4f66-a2c4-1a0fc2b16d2c",
   "metadata": {
    "tags": []
   },
   "outputs": [
    {
     "name": "stdout",
     "output_type": "stream",
     "text": [
      "[GroundingChunk(retrieved_context=None, web=GroundingChunkWeb(title='pitchbook.com', uri='https://vertexaisearch.cloud.google.com/grounding-api-redirect/AUBnsYuD2Cr0vyc0NZTcGUeHsqT2eTxwli3YKiAikwcXvvNTCbpc_R_nIduKjEtOAjiDu0KYkslE9yXq5U-g8j62poAFeSDDfLdEDWDDq4kuWGsIChY19K-QblQJQjUhiKNbTS2CSbuvA1chJGSf')), GroundingChunk(retrieved_context=None, web=GroundingChunkWeb(title='tracxn.com', uri='https://vertexaisearch.cloud.google.com/grounding-api-redirect/AUBnsYu411X5nstzcSwKz9l_AaZaaI3tRBN_E154wt318bg7CGyUtTn0nGmBN2ZilUnblpILRRghNW8mseCWvf2DroJ0HJO7aVmES8Ui6OrZyPSYANDuRMfFJYZuXAeT7KYgyhYZlr5mSrIr_3zY3Kjqtf-W_bg2-ZERwJbnHm7S0Ousijbk5jXDj9f19LmNN_Nvhz3tKrNokXMuY-wLJBPv3uqsB5AT')), GroundingChunk(retrieved_context=None, web=GroundingChunkWeb(title='supplyht.com', uri='https://vertexaisearch.cloud.google.com/grounding-api-redirect/AUBnsYuL2TwbI9nOgEfT1hXFkpETPWiChMd36CAV9RVxyVWWAFco9vPTvIGLcnoxe8iLaqAFo6VN1-zWOhIPFAC070_2GLfJAZFRKwuR3E09CUvbAjKs8yjBNkZqACbibbsNrmYopHVnMu9ar9oDU1wUAc_U77VQ5Drel2czrMwwaEdEe_w-')), GroundingChunk(retrieved_context=None, web=GroundingChunkWeb(title='mdm.com', uri='https://vertexaisearch.cloud.google.com/grounding-api-redirect/AUBnsYtuzvxrNeEfgGu63ljMgJNDjscxdo_OKM1g7fQCfKGDMwpgbufAk_1BBorG0QZP2rL5OryMVLN9ZlWkvsDAzB-zXB4mEQGP2JuI_h1DpTiuBgX_VQlgWiRVcY3HujN87_hIdQ3bbiO0949MsnfCnMNXP42ifcr7kUO3r6r7HRGHa-5MgiUpYeYRnaJX4hafsw00u0i9m7vtWUadyx9PRGj7FC3yV6OnJgNL3GpBSEo=')), GroundingChunk(retrieved_context=None, web=GroundingChunkWeb(title='inddist.com', uri='https://vertexaisearch.cloud.google.com/grounding-api-redirect/AUBnsYu3SQXNgDgUdwvcZx5N_iN6bZDaZWLdw1T6U4xzlKL-Ab9ZG5OOLCbxXj9N4m-WJYYPHDqVf2fxP_MZChhn2xZuF8JD-tiGtkMhGJwTPB6DYCnPthaphnn4Jy7YmJEyllRrcOWpuxeok6Z4NKJt9mb1gCryDfoWoWItGcgiO-LioiQCuudHeY7PpiLyRd3nebg33KNanhT8Q1L0WCLb_DxZIu3GuEy2'))]\n"
     ]
    }
   ],
   "source": [
    "print(response_20flash.candidates[0].grounding_metadata.grounding_chunks)"
   ]
  },
  {
   "cell_type": "markdown",
   "id": "181e5acb-2f19-4a4a-a65d-b5c6f4af13ea",
   "metadata": {},
   "source": [
    "### Few Links doesnt seems appropriate and working. \n",
    "* <b> We observed that the citations links are routed through Vertex AI links and are not direct links in few cases\n",
    "* <b> Few links provided in the main output dont work always. Can handled automatically through python)"
   ]
  },
  {
   "cell_type": "markdown",
   "id": "0601e7d7-b3c3-47a0-8703-5a600b13928e",
   "metadata": {},
   "source": [
    "### Prompt Variation 1"
   ]
  },
  {
   "cell_type": "code",
   "execution_count": 17,
   "id": "6640263a-cc61-43e9-81de-13e7f269636b",
   "metadata": {
    "tags": []
   },
   "outputs": [],
   "source": [
    "messages = [\n",
    "    {\n",
    "        \"role\": \"system\",\n",
    "        \"content\": (\n",
    "            '''You are a market research analyst specializing in corporate mergers and acquisitions.\n",
    "                Your task is to gather and summarize credible information from web searches. \n",
    "                You only consider trustworthy sources with clear credentials and safety certificates.\n",
    "            '''\n",
    "        ),\n",
    "    },\n",
    "    {   \n",
    "        \"role\": \"user\",\n",
    "        \"content\": (\n",
    "            '''Search for \"F W Webb merger acquisition\" and follow these steps:\n",
    "\n",
    "                1. Scan the first 50 search results.\n",
    "                2. Only keep publicly accessible resources.Avoid paid or proprietary databases where full data or direct access to the link is restricted.\n",
    "                3. Prioritize results where more details about the event are known like the nature of acquisition, date, benefits etc.\n",
    "                4. Keep the results where F W Webb is mentioned and the source has a published date. Only keep information going back 10 years only.\n",
    "                5. Only keep the results which mentions merger or acquisitions involving F W Webb. \n",
    "                6. Remove duplicate articles based on order of appearance in search results.\n",
    "                7. Create a numbered list (max 5 items) sorted by date (latest to oldest), formatted as:\n",
    "                Company Acquired/Merged – MMM-YYYY\n",
    "                A ≤2 lines summary , mentioning who merged/acquired whom and when, along with any key details.\n",
    "                Web address to this item from search results\n",
    "                8. Focus only on verified and relevant sources.\n",
    "                9. Final response should only contains the numbered list with no additional text. If no eligible searches were found reponse only with the word No\n",
    "                '''\n",
    "        ),\n",
    "    },\n",
    "]\n"
   ]
  },
  {
   "cell_type": "code",
   "execution_count": 18,
   "id": "bd3efa54-3686-4bf8-b564-f534b062cbeb",
   "metadata": {
    "tags": []
   },
   "outputs": [],
   "source": [
    "from google import genai\n",
    "from google.genai.types import GenerateContentConfig, Tool\n",
    "\n",
    "client = genai.Client(api_key=gemini_api_key)\n",
    "\n",
    "config_20flash = GenerateContentConfig(system_instruction=messages[0]['content'], tools=[Tool(google_search={})], temperature=0)\n",
    "\n",
    "response_20flash = client.models.generate_content(model=\"gemini-2.0-flash-exp\", config=config_20flash, contents=messages[1]['content'])\n"
   ]
  },
  {
   "cell_type": "code",
   "execution_count": 19,
   "id": "55bda1c0-5508-4acc-819d-8f6dd94ae8c2",
   "metadata": {
    "tags": []
   },
   "outputs": [
    {
     "name": "stdout",
     "output_type": "stream",
     "text": [
      "1.  J.D. Johnson Co. – Dec-2023\n",
      "    F.W. Webb acquired J.D. Johnson Co., a business serving the community for over 150 years, to expand its presence in Poughkeepsie, New York. The acquisition complements F.W. Webb's commitment to customer support.\n",
      "    https://supplyht.com/articles/103277-fw-webb-acquires-jd-johnson-co\n",
      "\n",
      "2.  Rising Sun Plumbing Supply – Jun-2023\n",
      "    F.W. Webb acquired Rising Sun Plumbing Supply, a plumbing, heating, and industrial supply distributor in Philadelphia, to expand its reach in the Greater Philadelphia market.\n",
      "    https://www.inddist.com/mergers-acquisitions/news/22529778/fw-webb-acquires-pennsylvania-plumbing-suppliers\n",
      "\n",
      "3.  Steinberg Plumbing Supply – Jun-2023\n",
      "    F.W. Webb acquired Steinberg Plumbing Supply, a plumbing, heating, and industrial supply distributor in Elkins Park, PA, to expand its reach in the Greater Philadelphia market.\n",
      "    https://www.inddist.com/mergers-acquisitions/news/22529778/fw-webb-acquires-pennsylvania-plumbing-suppliers\n",
      "\n",
      "4.  VJ Stanley – Jan-2022\n",
      "    F.W. Webb acquired VJ Stanley, a plumbing supply company. The specific details of the acquisition were not disclosed.\n",
      "    https://tracxn.com/d/acquisitions/F.W.-Webb\n",
      "\n",
      "5.  Stritt & Priebe – Jan-2022\n",
      "    F.W. Webb acquired Stritt & Priebe, a plumbing supply company. The specific details of the acquisition were not disclosed.\n",
      "    https://tracxn.com/d/acquisitions/F.W.-Webb\n",
      "\n"
     ]
    }
   ],
   "source": [
    "print(response_20flash.text)"
   ]
  },
  {
   "cell_type": "markdown",
   "id": "6af5709c-b68e-4c39-a9ed-dc49b967c3ba",
   "metadata": {},
   "source": [
    "### Prompt Approach 2"
   ]
  },
  {
   "cell_type": "code",
   "execution_count": 20,
   "id": "81a69eb8-a278-48b6-998a-7bf9c7f7fb01",
   "metadata": {
    "tags": []
   },
   "outputs": [],
   "source": [
    "messages = [\n",
    "    {\n",
    "        \"role\": \"system\",\n",
    "        \"content\": (\n",
    "            '''You are a market research analyst specializing in corporate mergers and acquisitions.\n",
    "                Your task is to gather and summarize credible information from web searches. \n",
    "                You only consider trustworthy sources with clear credentials and safety certificates.\n",
    "            '''\n",
    "        ),\n",
    "    },\n",
    "    {   \n",
    "        \"role\": \"user\",\n",
    "        \"content\": (\n",
    "            '''Search for \"F W Webb merger acquisition\" and follow these steps:\n",
    "\n",
    "                1. Scan the first 50 search results.\n",
    "                2. Only keep publicly accessible resources.Avoid paid or proprietary databases where full data or direct access to the link is restricted.\n",
    "                3. Keep the results where F W Webb is mentioned and the source has a published date. Only keep information going back 10 years only.\n",
    "                4. Only keep the results which mentions merger or acquisitions involving F W Webb.\n",
    "                5. Remove duplicate articles based on order of appearance in search results. Only leveraged this filtered list of items further.\n",
    "                6. Create a numbered list (max 5 items) sorted by date (latest to oldest), formatted as:\n",
    "                Company Acquired/Merged – MMM-YYYY\n",
    "                A ≤2 lines summary , mentioning who merged/acquired whom and when, along with any key details.\n",
    "                Web address to this item from search results\n",
    "                7. Focus only on verified and relevant sources.\n",
    "                8. Final response should only contains the numbered list with no additional text. If no eligible searches were found reponse only with the word No\n",
    "                '''\n",
    "        ),\n",
    "    },\n",
    "]\n"
   ]
  },
  {
   "cell_type": "code",
   "execution_count": 21,
   "id": "9efd24b8-789c-468f-b63b-87983f3b0f2a",
   "metadata": {
    "tags": []
   },
   "outputs": [],
   "source": [
    "from google import genai\n",
    "from google.genai.types import GenerateContentConfig, Tool\n",
    "\n",
    "client = genai.Client(api_key=gemini_api_key)\n",
    "\n",
    "config_20flash = GenerateContentConfig(system_instruction=messages[0]['content'], tools=[Tool(google_search={})], temperature=0)\n",
    "\n",
    "response_20flash = client.models.generate_content(model=\"gemini-2.0-flash-exp\", config=config_20flash, contents=messages[1]['content'])\n"
   ]
  },
  {
   "cell_type": "code",
   "execution_count": 22,
   "id": "8e41a8a8-84ff-44ac-8f8f-e90626585547",
   "metadata": {
    "tags": []
   },
   "outputs": [
    {
     "name": "stdout",
     "output_type": "stream",
     "text": [
      "1.  J.D. Johnson Co. – Dec-2023\n",
      "F.W. Webb acquired J.D. Johnson Co., a plumbing and HVAC supplier in Poughkeepsie, NY, expanding their presence in the New York market. This acquisition was completed in early December 2023.\n",
      "[https://supplyht.com/articles/f-w-webb-acquires-j-d-johnson-co/](https://vertexaisearch.cloud.google.com/grounding-api-redirect/AUBnsYs7TtwgIa8F1fCDRA_xtUM7BdTtEuY9yXBxq4WrJ6pUj3Om4fYUGMxnCe3N0ItJML8saPQjKcJ11U18IV3wPFbLm4sJ0AUTChNQNrDxFbjCG4UK4NDy1AXS4vn5IC-pO_uiK5z7t49Fh8T9rKHc92ZsWLEpx-WNVWya-qKfaHwwhPE=)\n",
      "\n",
      "2.  Rising Sun Plumbing Supply and Steinberg Plumbing Supply – Jun-2023\n",
      "F.W. Webb acquired two plumbing distributors in Pennsylvania, Rising Sun Plumbing Supply and Steinberg Plumbing Supply, expanding their reach in the Philadelphia area. The acquisition was announced in June 2023.\n",
      "[https://www.mdm.com/news/mergers-acquisitions/f-w-webb-acquires-2-plumbing-distributors-in-philadelphia/](https://vertexaisearch.cloud.google.com/grounding-api-redirect/AUBnsYsaKiVog8V3tCmCZMkGV3St-OC_HDF-fTLnrP94QAYkonlyLQfi9MJzESoHaDp3xao3Aot0w0GIpgBhgGKg_60iWlvPvxGZw3wc7f5vdmBmYpunnMg_3rv_FMTWBJxd5qQ0iiqQOIfwo7hZjgHMftAvbEvYkj99qlJ-HJLPZ1z-TXuWfY31cnQoujIazGFpo9jCs8YyzS5qBSAlV45pFwQnS2AiNjfUbYVyV8cWeg==)\n",
      "\n",
      "3.  VJ Stanley and Stritt & Priebe – Jan-2022\n",
      "F.W. Webb acquired VJ Stanley and Stritt & Priebe in January 2022.\n",
      "[https://tracxn.com/d/acquisitions/acquisitionsby/F.W.Webb](https://vertexaisearch.cloud.google.com/grounding-api-redirect/AUBnsYsKwX3s54HI2-ZonjpC3p8FXzcu9h9DsSgizSv6WA2ok6Djeop7PdUUSm-eEsBjqnNIAz1z2pfT1r8tgYE0JktY2ichmR1kpoSNjmDJgRO-NGl1gx4Wu3cEtVOoh5brTYBZrfdBB72DbxFOR-0jlRBn0gQP3SrKnfuaaHtu3NzAAjBXI73oT8GWP5jjK9DxmcY6xBSTSzuMJIYCirPEDcR7qfE=)\n",
      "\n",
      "4.  Danbury Plumbing and HVAC Supply – Mar-2021\n",
      "F.W. Webb acquired Danbury Plumbing and HVAC Supply, a Western Connecticut distributor, in March 2021, increasing their presence in Connecticut.\n",
      "[https://www.inddist.com/mergers-acquisitions/news/21208888/fw-webb-acquires-danbury-plumbing-and-hvac-supply-in-western-ct](https://vertexaisearch.cloud.google.com/grounding-api-redirect/AUBnsYu4l0EuiKiKRZxPEkmUTe1xxzW54uqYMC84OT5AidO-4gcrWad2tAUc7Qkjk6Byifx0B5aaawOUsofBRxMSfz4_rTvlUjJlE3j0lLA8JcW_CpvO4n5IOk5Y40n4flmat0hBGd52JLXyQDPT4dnqu6dzYpFwC3Cn1qBtOGqupKhVQBvEHMQHqI1XkizSwQdYnGAakPqg_p7xUMWWcWJm9BNlIyPUmXYklZy64MwbUQEo7H56g2I=)\n",
      "\n",
      "5. The Collins Companies - Jan-2020\n",
      "F.W. Webb acquired The Collins Companies in January 2020.\n",
      "[https://tracxn.com/d/acquisitions/acquisitionsby/F.W.Webb](https://vertexaisearch.cloud.google.com/grounding-api-redirect/AUBnsYsKwX3s54HI2-ZonjpC3p8FXzcu9h9DsSgizSv6WA2ok6Djeop7PdUUSm-eEsBjqnNIAz1z2pfT1r8tgYE0JktY2ichmR1kpoSNjmDJgRO-NGl1gx4Wu3cEtVOoh5brTYBZrfdBB72DbxFOR-0jlRBn0gQP3SrKnfuaaHtu3NzAAjBXI73oT8GWP5jjK9DxmcY6xBSTSzuMJIYCirPEDcR7qfE=)\n",
      "\n"
     ]
    }
   ],
   "source": [
    "print(response_20flash.text)"
   ]
  },
  {
   "cell_type": "markdown",
   "id": "68dd5a5c-8c5c-43de-967d-cf0c6a64fcf5",
   "metadata": {},
   "source": [
    "### Prompt Approach 3"
   ]
  },
  {
   "cell_type": "code",
   "execution_count": 23,
   "id": "0da953b1-8a9c-4fb1-b942-e4e44221528d",
   "metadata": {
    "tags": []
   },
   "outputs": [],
   "source": [
    "messages = [\n",
    "    {\n",
    "        \"role\": \"system\",\n",
    "        \"content\": (\n",
    "            '''You are a market research analyst specializing in corporate mergers and acquisitions.\n",
    "                Your task is to gather and summarize credible information from web searches. \n",
    "                You only consider trustworthy sources with clear credentials and safety certificates.\n",
    "            '''\n",
    "        ),\n",
    "    },\n",
    "    {   \n",
    "        \"role\": \"user\",\n",
    "        \"content\": (\n",
    "            '''Search for \"F W Webb merger acquisition\" and follow these steps:\n",
    "\n",
    "                1. Scan the first 50 search results.\n",
    "                2. Only keep publicly accessible resources.Avoid paid or proprietary databases where full data or direct access to the link is restricted.\n",
    "                3. Keep the results where F W Webb is mentioned and the source has a published date. Only keep information going back 10 years only.\n",
    "                4. Only keep the results which mentions merger or acquisitions involving F W Webb.\n",
    "                5. Remove duplicate articles based on order of appearance in search results. Only leveraged this filtered list of items further.\n",
    "                6. Create a numbered list (max 5 items) sorted by date (latest to oldest), formatted as:\n",
    "                Company Acquired/Merged – MMM-YYYY\n",
    "                A ≤2 lines summary , mentioning who merged/acquired whom and when, along with any key details.\n",
    "                Public Web address to this item\n",
    "                7. Focus only on verified and relevant sources.\n",
    "                8. Final response should only contains the numbered list with no additional text. If no eligible searches were found reponse only with the word No\n",
    "                '''\n",
    "        ),\n",
    "    },\n",
    "]\n"
   ]
  },
  {
   "cell_type": "code",
   "execution_count": 24,
   "id": "66de201a-b869-4845-bb4f-8fb19440a533",
   "metadata": {
    "tags": []
   },
   "outputs": [],
   "source": [
    "from google import genai\n",
    "from google.genai.types import GenerateContentConfig, Tool\n",
    "\n",
    "client = genai.Client(api_key=gemini_api_key)\n",
    "\n",
    "config_20flash = GenerateContentConfig(system_instruction=messages[0]['content'], tools=[Tool(google_search={})], temperature=0)\n",
    "\n",
    "response_20flash = client.models.generate_content(model=\"gemini-2.0-flash-exp\", config=config_20flash, contents=messages[1]['content'])\n"
   ]
  },
  {
   "cell_type": "code",
   "execution_count": 25,
   "id": "e8437b1a-4fae-49ea-b0af-6b2d228c4a7b",
   "metadata": {
    "tags": []
   },
   "outputs": [
    {
     "name": "stdout",
     "output_type": "stream",
     "text": [
      "1.  J.D. Johnson Co. – DEC-2023\n",
      "    F.W. Webb acquired J.D. Johnson Co., a business serving the community for over 150 years, to expand its presence in the Poughkeepsie, New York area. The acquisition was completed on December 4, 2023, and the location became F.W. Webb's newest wholesale location.\n",
      "    [https://supplyht.com/articles/102088-fw-webb-acquires-jd-johnson-co](https://supplyht.com/articles/102088-fw-webb-acquires-jd-johnson-co)\n",
      "\n",
      "2.  Rising Sun Plumbing Supply and Steinberg Plumbing Supply – JUN-2023\n",
      "    F.W. Webb acquired Rising Sun Plumbing Supply and Steinberg Plumbing Supply, both located in the Philadelphia area, to expand its reach in the region. The acquisition was announced on June 5, 2023, and both companies now operate under the F.W. Webb umbrella.\n",
      "    [https://www.mdm.com/news/mergers-acquisitions/f-w-webb-acquires-2-plumbing-distributors-in-philadelphia/](https://www.mdm.com/news/mergers-acquisitions/f-w-webb-acquires-2-plumbing-distributors-in-philadelphia/)\n",
      "\n",
      "3.  VJ Stanley and Stritt & Priebe – JAN-2022\n",
      "    F.W. Webb acquired VJ Stanley and Stritt & Priebe on January 24, 2022. The specific details of these acquisitions were not disclosed.\n",
      "    [https://tracxn.com/d/acquisitions/acquisitionsby/F.W.Webb](https://tracxn.com/d/acquisitions/acquisitionsby/F.W.Webb)\n",
      "\n",
      "4.  Danbury Plumbing & Supply – MAR-2021\n",
      "    F.W. Webb acquired Danbury Plumbing & Supply on March 1, 2021. The specific details of this acquisition were not disclosed.\n",
      "    [https://tracxn.com/d/acquisitions/acquisitionsby/F.W.Webb](https://tracxn.com/d/acquisitions/acquisitionsby/F.W.Webb)\n",
      "\n",
      "5.  The Collins Companies – JAN-2020\n",
      "    F.W. Webb acquired The Collins Companies on January 27, 2020. The specific details of this acquisition were not disclosed.\n",
      "    [https://tracxn.com/d/acquisitions/acquisitionsby/F.W.Webb](https://tracxn.com/d/acquisitions/acquisitionsby/F.W.Webb)\n",
      "\n"
     ]
    }
   ],
   "source": [
    "print(response_20flash.text)"
   ]
  },
  {
   "cell_type": "markdown",
   "id": "6bfe5faf-8e8a-4be1-8dc3-2ee61c872c1c",
   "metadata": {},
   "source": [
    "### Prompt Approach 4"
   ]
  },
  {
   "cell_type": "code",
   "execution_count": 26,
   "id": "4a9e1b42-8637-40a5-8755-d62994274276",
   "metadata": {
    "tags": []
   },
   "outputs": [],
   "source": [
    "messages = [\n",
    "    {\n",
    "        \"role\": \"system\",\n",
    "        \"content\": (\n",
    "            '''You are a market research analyst specializing in corporate mergers and acquisitions.\n",
    "                Your task is to gather and summarize credible information from web searches. \n",
    "                You only consider trustworthy sources with clear credentials and safety certificates.\n",
    "            '''\n",
    "        ),\n",
    "    },\n",
    "    {   \n",
    "        \"role\": \"user\",\n",
    "        \"content\": (\n",
    "            '''Search for \"F W Webb merger acquisition\" and follow these steps:\n",
    "\n",
    "                1. Scan the first 50 search results.\n",
    "                2. Only keep publicly accessible resources.Avoid paid or proprietary databases where full data or direct access to the link is restricted.\n",
    "                3. Keep the results where F W Webb is mentioned and the source has a published date. Only keep information going back 10 years only.\n",
    "                4. Only keep the results which mentions merger or acquisitions involving F W Webb.\n",
    "                5. Remove duplicate articles based on order of appearance in search results. Only leveraged this filtered list of items further.\n",
    "                6. Create a numbered list (max 5 items) sorted by date (latest to oldest), formatted as:\n",
    "                Company Acquired/Merged – MMM-YYYY\n",
    "                A ≤2 lines summary , mentioning who merged/acquired whom and when, along with any key details.\n",
    "                Link to this item from the original source\n",
    "                7. Focus only on verified and relevant sources.\n",
    "                8. Final response should only contains the numbered list with no additional text. If no eligible searches were found reponse only with the word No\n",
    "                '''\n",
    "        ),\n",
    "    },\n",
    "]\n"
   ]
  },
  {
   "cell_type": "code",
   "execution_count": 27,
   "id": "b5468c74-b76b-4066-b3ec-e0a35cf0cc02",
   "metadata": {
    "tags": []
   },
   "outputs": [],
   "source": [
    "from google import genai\n",
    "from google.genai.types import GenerateContentConfig, Tool\n",
    "\n",
    "client = genai.Client(api_key=gemini_api_key)\n",
    "\n",
    "config_20flash = GenerateContentConfig(system_instruction=messages[0]['content'], tools=[Tool(google_search={})], temperature=0)\n",
    "\n",
    "response_20flash = client.models.generate_content(model=\"gemini-2.0-flash-exp\", config=config_20flash, contents=messages[1]['content'])\n"
   ]
  },
  {
   "cell_type": "code",
   "execution_count": 28,
   "id": "93c50bcf-55ee-4267-9aff-e74244ae7563",
   "metadata": {
    "tags": []
   },
   "outputs": [
    {
     "name": "stdout",
     "output_type": "stream",
     "text": [
      "1.  J D Johnson Co. – Dec-2023\n",
      "    F.W. Webb acquired J.D. Johnson Co., a commercial and residential building trades supplier in Poughkeepsie, NY. This acquisition allowed F.W. Webb to expand its presence in the Dutchess County community.\n",
      "    [https://vertexaisearch.cloud.google.com/grounding-api-redirect/AUBnsYtfUuUsmIoaE33f4I6SEie0IvPUDrSO30wZD40Z833PEVMtiCkSCMv1uUL_eZLCBwcJ_gZU_Y6-D0G315Q855ziNC2mkwKHp_20-J7HmLV-Url6JLphyw5ko9TDqr5xFwDnHR8l1z04cm_dT7UgSvTYYngPRVqUBsAmuKkFBDKaRX8B](https://vertexaisearch.cloud.google.com/grounding-api-redirect/AUBnsYtfUuUsmIoaE33f4I6SEie0IvPUDrSO30wZD40Z833PEVMtiCkSCMv1uUL_eZLCBwcJ_gZU_Y6-D0G315Q855ziNC2mkwKHp_20-J7HmLV-Url6JLphyw5ko9TDqr5xFwDnHR8l1z04cm_dT7UgSvTYYngPRVqUBsAmuKkFBDKaRX8B)\n",
      "2.  Rising Sun Plumbing Supply and Steinberg Plumbing Supply – Jun-2023\n",
      "    F.W. Webb acquired two plumbing distributors in Pennsylvania, Rising Sun Plumbing Supply and Steinberg Plumbing Supply, expanding its reach in the Philadelphia area. Both companies will operate under the F.W. Webb umbrella.\n",
      "    [https://vertexaisearch.cloud.google.com/grounding-api-redirect/AUBnsYtN2tDqKOlJdi4rSMfKsPSqq-lZ3Fw5RuNJCPaF_n9jQoh0AyIc9EsSxEafF01WCRGqW17pl4wTb5-_4aM94GXUCjnlOI7pfAYJbRAb3_g9IQxzLNslvgI9Rrls1E1qGNHctNbXiWyKWHtNdNSCUm42jwPtTRe4apJjSp9emlmxMZ5pE_sSY6B9H7cT0Scc6NjIFUv-YWnWKge8w_SzNJI-JoXYBpUPx2H2F26ELOo=](https://vertexaisearch.cloud.google.com/grounding-api-redirect/AUBnsYtN2tDqKOlJdi4rSMfKsPSqq-lZ3Fw5RuNJCPaF_n9jQoh0AyIc9EsSxEafF01WCRGqW17pl4wTb5-_4aM94GXUCjnlOI7pfAYJbRAb3_g9IQxzLNslvgI9Rrls1E1qGNHctNbXiWyKWHtNdNSCUm42jwPtTRe4apJjSp9emlmxMZ5pE_sSY6B9H7cT0Scc6NjIFUv-YWnWKge8w_SzNJI-JoXYBpUPx2H2F26ELOo=)\n",
      "3.  Danbury Plumbing and HVAC Supply – Mar-2021\n",
      "    F.W. Webb acquired Danbury Plumbing and HVAC Supply Co. in Western Connecticut. The location now operates as F.W. Webb, and its Creative Bath showroom was converted to a Frank Webb Home retail showroom.\n",
      "    [https://vertexaisearch.cloud.google.com/grounding-api-redirect/AUBnsYuzIeUJTFBeVnozqZaoGB9pBa5fhpGhPBMsC7EIJReT3IvPlKzDgzuss6AAxjo-GtbsDqmNuYwXeTpLYf1qd2Ml7dfMWmIEk0KaLaujGJVzZ75qjGYBLCGfi1AAtcA_XJU3m_AsOUMK6leev3w6frHipinJUf0oTqp5WBAELqIuu1lIj2-wz4F0zmjUS0cG1ciiQ48ExLfEZNigha-OOurLvs6IF5FAAw==](https://vertexaisearch.cloud.google.com/grounding-api-redirect/AUBnsYuzIeUJTFBeVnozqZaoGB9pBa5fhpGhPBMsC7EIJReT3IvPlKzDgzuss6AAxjo-GtbsDqmNuYwXeTpLYf1qd2Ml7dfMWmIEk0KaLaujGJVzZ75qjGYBLCGfi1AAtcA_XJU3m_AsOUMK6leev3w6frHipinJUf0oTqp5WBAELqIuu1lIj2-wz4F0zmjUS0cG1ciiQ48ExLfEZNigha-OOurLvs6IF5FAAw==)\n",
      "4.  VJ Stanley and Stritt & Priebe - Jan-2022\n",
      "    F.W. Webb acquired VJ Stanley and Stritt & Priebe in January 2022.\n",
      "    [https://tracxn.com/d/acquisitions/f-w-webb](https://tracxn.com/d/acquisitions/f-w-webb)\n",
      "5.  The Collins Companies – Jan-2020\n",
      "    F.W. Webb acquired The Collins Companies in January 2020.\n",
      "    [https://tracxn.com/d/acquisitions/f-w-webb](https://tracxn.com/d/acquisitions/f-w-webb)\n",
      "\n"
     ]
    }
   ],
   "source": [
    "print(response_20flash.text)"
   ]
  },
  {
   "cell_type": "markdown",
   "id": "083d091f-84d9-4516-adcd-050e4985e3dc",
   "metadata": {},
   "source": [
    "### Prompt Approach 5"
   ]
  },
  {
   "cell_type": "code",
   "execution_count": 29,
   "id": "a96fc028-35f5-40c1-a1c4-08c664055d2e",
   "metadata": {
    "tags": []
   },
   "outputs": [],
   "source": [
    "messages = [\n",
    "    {\n",
    "        \"role\": \"system\",\n",
    "        \"content\": (\n",
    "            '''You are a market research analyst specializing in corporate mergers and acquisitions.\n",
    "                Your task is to gather and summarize credible information from web searches. \n",
    "                You only consider trustworthy sources with clear credentials and safety certificates.\n",
    "            '''\n",
    "        ),\n",
    "    },\n",
    "    {   \n",
    "        \"role\": \"user\",\n",
    "        \"content\": (\n",
    "            '''Search for \"F W Webb merger acquisition\" using Google and follow these steps:\n",
    "\n",
    "        1. Scan the first 50 search results.\n",
    "\n",
    "        2. Filter sources:\n",
    "\n",
    "            2.1 Keep only publicly accessible sources (e.g., news articles, press releases, company websites).\n",
    "\n",
    "            2.2 Exclude paid/proprietary databases or sources where full access is restricted.\n",
    "\n",
    "        3. Retain relevant results:\n",
    "\n",
    "            3.1 Include only results where F W Webb is explicitly mentioned in the context of mergers or acquisitions.\n",
    "\n",
    "            3.2 Ensure the source has a published date within the last 10 years (based on the publication date, not the event date).\n",
    "\n",
    "        4. Remove duplicates:\n",
    "\n",
    "            4.1 Eliminate duplicate articles, keeping only the first instance based on order of appearance in search results.\n",
    "\n",
    "        5. Exclude incomplete results:\n",
    "\n",
    "            5.1 Remove any result where the full, original web link is not available or leads to a broken page.\n",
    "\n",
    "        6. Verify relevance:\n",
    "\n",
    "            6.1 Exclude results where F W Webb is mentioned in a context unrelated to mergers or acquisitions (e.g., as a partner, supplier, or in unrelated news).\n",
    "\n",
    "        7. Sort the results by date (latest to oldest).\n",
    "        8. Create a numbered list (max 5 items).Use the following format for each entry:\n",
    "\n",
    "        8.1 Company Acquired/Merged – MMM-YYYY\n",
    "\n",
    "        8.2 A summary in 2 lines or fewer, including:Who merged with or acquired whom.The date of the merger/acquisition.Any key details (e.g., financial terms, strategic rationale, or market impact).\n",
    "\n",
    "        8.3 Provide the full, original web link to the article or webpage. Do not use shortened, tracking, or search result links.Focus on verified and reliable sources.Prioritize sources such as reputable news outlets, official press releases, or industry reports.\n",
    "\n",
    "        9. If no eligible results are found.Return only \"No\" with no additional text.\n",
    "\n",
    "                '''\n",
    "        ),\n",
    "    },\n",
    "]\n"
   ]
  },
  {
   "cell_type": "code",
   "execution_count": 30,
   "id": "0239c849-fe15-4c8c-b717-3f089fabbc06",
   "metadata": {
    "tags": []
   },
   "outputs": [],
   "source": [
    "from google import genai\n",
    "from google.genai.types import GenerateContentConfig, Tool\n",
    "\n",
    "client = genai.Client(api_key=gemini_api_key)\n",
    "\n",
    "config_20flash = GenerateContentConfig(system_instruction=messages[0]['content'], tools=[Tool(google_search={})], temperature=0)\n",
    "\n",
    "response_20flash = client.models.generate_content(model=\"gemini-2.0-flash-exp\", config=config_20flash, contents=messages[1]['content'])\n"
   ]
  },
  {
   "cell_type": "code",
   "execution_count": 31,
   "id": "bbf46660-70c2-43fb-98fe-4080786a6302",
   "metadata": {
    "tags": []
   },
   "outputs": [
    {
     "name": "stdout",
     "output_type": "stream",
     "text": [
      "1.  J.D. Johnson Co. – Dec-2023\n",
      "    F.W. Webb acquired J.D. Johnson Co., a business that had served the community for over 150 years. This acquisition allowed F.W. Webb to open a new wholesale location in Poughkeepsie, New York.\n",
      "    [https://supplyht.com/articles/102008-fw-webb-acquires-jd-johnson-co](https://supplyht.com/articles/102008-fw-webb-acquires-jd-johnson-co)\n",
      "\n",
      "2.  Rising Sun Plumbing Supply – Jun-2023\n",
      "    F.W. Webb acquired Rising Sun Plumbing Supply, a plumbing, heating, and industrial supplier in Philadelphia. This acquisition expanded F.W. Webb's presence in the Greater Philadelphia market.\n",
      "    [https://www.inddist.com/mergers-acquisitions/news/22537878/fw-webb-acquires-pennsylvania-plumbing-suppliers](https://www.inddist.com/mergers-acquisitions/news/22537878/fw-webb-acquires-pennsylvania-plumbing-suppliers)\n",
      "\n",
      "3.  Steinberg Plumbing Supply – Jun-2023\n",
      "    F.W. Webb acquired Steinberg Plumbing Supply, a plumbing, heating, and industrial supplier in Elkins Park, a suburb of Philadelphia. This acquisition, along with Rising Sun, increased F.W. Webb's reach in the Philadelphia metro area.\n",
      "    [https://www.inddist.com/mergers-acquisitions/news/22537878/fw-webb-acquires-pennsylvania-plumbing-suppliers](https://www.inddist.com/mergers-acquisitions/news/22537878/fw-webb-acquires-pennsylvania-plumbing-suppliers)\n",
      "\n",
      "4.  Stritt & Priebe – Jan-2022\n",
      "    F.W. Webb acquired Stritt & Priebe, a specialist in industrial valve supply, service, and repair located in Buffalo, New York. This acquisition enhanced F.W. Webb's industrial valve service capabilities.\n",
      "    [https://supplyht.com/articles/98788-fw-webb-co-acquires-stritt-priebe-and-vj-stanley](https://supplyht.com/articles/98788-fw-webb-co-acquires-stritt-priebe-and-vj-stanley)\n",
      "\n",
      "5.  VJ Stanley – Jan-2022\n",
      "    F.W. Webb acquired VJ Stanley, a wholesale distributor and manufacturer's representative of steam and hydronic products in Rochester, New York. This acquisition expanded F.W. Webb's reach in the plumbing, heating, HVAC/R, and PVF market in the Rochester region.\n",
      "    [https://supplyht.com/articles/98788-fw-webb-co-acquires-stritt-priebe-and-vj-stanley](https://supplyht.com/articles/98788-fw-webb-co-acquires-stritt-priebe-and-vj-stanley)\n",
      "\n"
     ]
    }
   ],
   "source": [
    "print(response_20flash.text)"
   ]
  },
  {
   "cell_type": "markdown",
   "id": "0ea778f1-b623-4078-9c1d-add3d237a436",
   "metadata": {},
   "source": [
    "### Geminis response on why web link extraction may not be completely reliable all the times"
   ]
  },
  {
   "cell_type": "markdown",
   "id": "85599ca8-6a0d-4c32-b6e8-fb7cf33bd658",
   "metadata": {},
   "source": [
    "### Possible challenges in reliable web links extraction\n",
    "* Search Result Snippets: \n",
    "LLMs often rely on the snippets provided by the search engine, which are short summaries of the web page content.  The actual URL might be associated with the entire page, but the LLM might only have access to the snippet and its associated (sometimes truncated or redirected) URL.\n",
    "\n",
    "* Dynamic Content: \n",
    "Web pages are dynamic.  The content that the search engine indexed might be different from what's on the page when the LLM tries to access it.  This can lead to broken links or content mismatches.\n",
    "\n",
    "* Paywalls and Restrictions: \n",
    "Even if the initial search result indicated a publicly accessible page, the website might have implemented changes (paywalls, registration requirements) that restrict access.  The LLM doesn't have a way to \"log in\" or bypass these restrictions.\n",
    "\n",
    "* URL Shortening/Tracking: \n",
    "Some websites use URL shorteners or tracking links, which can make it difficult to determine the actual destination URL.  The LLM might present the shortened/tracked link, which could be less reliable.\n",
    "\n",
    "* LLM Interpretation: \n",
    "Even with the correct URL, the LLM might not always present it correctly in the response.  Sometimes, it can get confused with formatting or other elements in the search result.\n",
    "\n",
    "### Strategies to Improve Link Reliability:\n",
    "\n",
    "* Explicitly Request Links: \n",
    "In your prompt, be very clear that you need the original, fully functional web links.  For example:  \"Provide the full, original web link to each source.  Do not use shortened links or links to search result pages.  I need the direct link to the article or web page itself.\"  The more explicit you are, the better the chances.\n",
    "\n",
    "* Limit Snippet Dependence (If Possible):  \n",
    "If the API allows it, explore options to make the LLM rely less on snippets and more on the actual page content (though this might be more computationally expensive).  This is not always an available option but is worth investigating in the API documentation.\n",
    "\n",
    "* Post-Processing:  \n",
    "The most reliable approach is often to post-process the LLM's output.  This means taking the links provided by the LLM and then programmatically checking them for validity.  You can use a library like requests in Python to make HTTP requests to the URLs and check the status codes (200 OK, 404 Not Found, etc.).  This allows you to filter out broken links or redirect to paywalls.\n",
    "\n",
    "* Specify Acceptable Domains:  \n",
    "If you're looking for information from specific, reputable sources, you can tell the LLM to prioritize those domains.  This can increase the likelihood of getting reliable links.  For example, \"Focus on sources from reputable news organizations like the New York Times, Reuters, or the Wall Street Journal.\"\n",
    "\n",
    "* Iterative Refinement: \n",
    "If you get a broken link, try rephrasing your query or requesting the information again.  Sometimes, the LLM might provide a different link on a subsequent attempt.\n",
    "\n",
    "* Human Verification: \n",
    "For critical information, always verify the links and the content yourself.  LLMs are powerful tools, but they are not perfect.  Human oversight is still essential.\n"
   ]
  },
  {
   "cell_type": "code",
   "execution_count": null,
   "id": "500133f7-5878-46b4-bcad-28ade5f7a3f3",
   "metadata": {},
   "outputs": [],
   "source": []
  }
 ],
 "metadata": {
  "kernelspec": {
   "display_name": "env_langchain",
   "language": "python",
   "name": "env_langchain"
  },
  "language_info": {
   "codemirror_mode": {
    "name": "ipython",
    "version": 3
   },
   "file_extension": ".py",
   "mimetype": "text/x-python",
   "name": "python",
   "nbconvert_exporter": "python",
   "pygments_lexer": "ipython3",
   "version": "3.10.13"
  }
 },
 "nbformat": 4,
 "nbformat_minor": 5
}
